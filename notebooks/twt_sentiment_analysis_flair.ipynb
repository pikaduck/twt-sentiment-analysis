{
  "cells": [
    {
      "cell_type": "markdown",
      "metadata": {
        "id": "view-in-github",
        "colab_type": "text"
      },
      "source": [
        "<a href=\"https://colab.research.google.com/github/pikaduck/twt-sentiment-analysis/blob/main/notebooks/twt_sentiment_analysis_flair.ipynb\" target=\"_parent\"><img src=\"https://colab.research.google.com/assets/colab-badge.svg\" alt=\"Open In Colab\"/></a>"
      ]
    },
    {
      "cell_type": "code",
      "execution_count": null,
      "metadata": {
        "id": "tXpiC57gj67w"
      },
      "outputs": [],
      "source": [
        "import pandas as pd"
      ]
    },
    {
      "cell_type": "code",
      "execution_count": null,
      "metadata": {
        "id": "oewNcysgkhHP"
      },
      "outputs": [],
      "source": [
        "df_train = pd.read_csv('/content/drive/MyDrive/Colab Notebooks/train.csv')\n",
        "df_test = pd.read_csv('/content/drive/MyDrive/Colab Notebooks/test.csv')"
      ]
    },
    {
      "cell_type": "code",
      "execution_count": null,
      "metadata": {
        "id": "LhBvGDwF03U7"
      },
      "outputs": [],
      "source": [
        "df_train0 = df_train.loc[df_train['sentiment'] == 0]\n",
        "df_train4 = df_train.loc[df_train['sentiment'] == 4]"
      ]
    },
    {
      "cell_type": "code",
      "execution_count": null,
      "metadata": {
        "id": "N8uMpp8d1IKF"
      },
      "outputs": [],
      "source": [
        "df_train0 = df_train0.sample(frac = 1).iloc[:5000]\n",
        "df_train4 = df_train4.sample(frac = 1).iloc[:5000]\n",
        "\n",
        "df_train = pd.concat([df_train0, df_train4])"
      ]
    },
    {
      "cell_type": "code",
      "execution_count": null,
      "metadata": {
        "colab": {
          "base_uri": "https://localhost:8080/"
        },
        "id": "OY0AyGOwk2Cr",
        "outputId": "b3459d1c-e365-45d1-fdf5-c03b22b61776"
      },
      "outputs": [
        {
          "output_type": "stream",
          "name": "stderr",
          "text": [
            "<ipython-input-8-f4ea7a282971>:3: SettingWithCopyWarning: \n",
            "A value is trying to be set on a copy of a slice from a DataFrame.\n",
            "Try using .loc[row_indexer,col_indexer] = value instead\n",
            "\n",
            "See the caveats in the documentation: https://pandas.pydata.org/pandas-docs/stable/user_guide/indexing.html#returning-a-view-versus-a-copy\n",
            "  df_test['sentiment'] = df_test['sentiment'].replace(4, 1)\n"
          ]
        }
      ],
      "source": [
        "df_train['sentiment'] = df_train['sentiment'].replace(4, 1)\n",
        "df_test = df_test.loc[df_test['sentiment'] != 2]\n",
        "df_test['sentiment'] = df_test['sentiment'].replace(4, 1)"
      ]
    },
    {
      "cell_type": "code",
      "execution_count": null,
      "metadata": {
        "colab": {
          "base_uri": "https://localhost:8080/"
        },
        "id": "t_HlYOoq5IaB",
        "outputId": "0545a323-463c-496f-fb4e-464c15149ca3"
      },
      "outputs": [
        {
          "output_type": "execute_result",
          "data": {
            "text/plain": [
              "(array([0, 1]), array([1, 0]))"
            ]
          },
          "metadata": {},
          "execution_count": 9
        }
      ],
      "source": [
        "df_train['sentiment'].unique(), df_test['sentiment'].unique()"
      ]
    },
    {
      "cell_type": "code",
      "execution_count": null,
      "metadata": {
        "colab": {
          "base_uri": "https://localhost:8080/",
          "height": 398
        },
        "id": "KicARaM9lGEo",
        "outputId": "b4fa59f3-9aaa-4669-97b3-23cf14b5925a"
      },
      "outputs": [
        {
          "output_type": "execute_result",
          "data": {
            "text/plain": [
              "        sentiment         idx                     timestamp    device  \\\n",
              "494545          0  2190616580  Tue Jun 16 03:14:33 PDT 2009  NO_QUERY   \n",
              "477998          0  2185788646  Mon Jun 15 17:54:27 PDT 2009  NO_QUERY   \n",
              "268624          0  1991400249  Mon Jun 01 06:58:20 PDT 2009  NO_QUERY   \n",
              "\n",
              "            username                                              tweet  \\\n",
              "494545      ash_2910  ahhh..really dosent wanna fight with you!!!!!!...   \n",
              "477998   dalibigbaby   @cutienik00 yeah but I can't follow anyone else    \n",
              "268624  CelesteChong  @mclangan if I keep eating the way I do now, u...   \n",
              "\n",
              "                                            cleaned_tweet  \\\n",
              "494545  ahhh.really dosent wanna fight with you! but i...   \n",
              "477998              yeah but i can not follow anyone else   \n",
              "268624  if i keep eating the way i do now, u might rea...   \n",
              "\n",
              "                                    numbers_cleaned_tweet  \\\n",
              "494545  ahhh.really dosent wanna fight with you! but i...   \n",
              "477998              yeah but i can not follow anyone else   \n",
              "268624  if i keep eating the way i do now, u might rea...   \n",
              "\n",
              "                                       punc_cleaned_tweet  \\\n",
              "494545  ahhh really dosent wanna fight with you but it...   \n",
              "477998              yeah but i can not follow anyone else   \n",
              "268624  if i keep eating the way i do now u might real...   \n",
              "\n",
              "                            lemmatized_stop_removed_tweet  \n",
              "494545  ahhh really dosent wan na fight seems like always  \n",
              "477998                        yeah not follow anyone else  \n",
              "268624  keep eating way u might really need drag trekking  "
            ],
            "text/html": [
              "\n",
              "  <div id=\"df-398d5608-d169-4600-9e62-c60212f35010\">\n",
              "    <div class=\"colab-df-container\">\n",
              "      <div>\n",
              "<style scoped>\n",
              "    .dataframe tbody tr th:only-of-type {\n",
              "        vertical-align: middle;\n",
              "    }\n",
              "\n",
              "    .dataframe tbody tr th {\n",
              "        vertical-align: top;\n",
              "    }\n",
              "\n",
              "    .dataframe thead th {\n",
              "        text-align: right;\n",
              "    }\n",
              "</style>\n",
              "<table border=\"1\" class=\"dataframe\">\n",
              "  <thead>\n",
              "    <tr style=\"text-align: right;\">\n",
              "      <th></th>\n",
              "      <th>sentiment</th>\n",
              "      <th>idx</th>\n",
              "      <th>timestamp</th>\n",
              "      <th>device</th>\n",
              "      <th>username</th>\n",
              "      <th>tweet</th>\n",
              "      <th>cleaned_tweet</th>\n",
              "      <th>numbers_cleaned_tweet</th>\n",
              "      <th>punc_cleaned_tweet</th>\n",
              "      <th>lemmatized_stop_removed_tweet</th>\n",
              "    </tr>\n",
              "  </thead>\n",
              "  <tbody>\n",
              "    <tr>\n",
              "      <th>494545</th>\n",
              "      <td>0</td>\n",
              "      <td>2190616580</td>\n",
              "      <td>Tue Jun 16 03:14:33 PDT 2009</td>\n",
              "      <td>NO_QUERY</td>\n",
              "      <td>ash_2910</td>\n",
              "      <td>ahhh..really dosent wanna fight with you!!!!!!...</td>\n",
              "      <td>ahhh.really dosent wanna fight with you! but i...</td>\n",
              "      <td>ahhh.really dosent wanna fight with you! but i...</td>\n",
              "      <td>ahhh really dosent wanna fight with you but it...</td>\n",
              "      <td>ahhh really dosent wan na fight seems like always</td>\n",
              "    </tr>\n",
              "    <tr>\n",
              "      <th>477998</th>\n",
              "      <td>0</td>\n",
              "      <td>2185788646</td>\n",
              "      <td>Mon Jun 15 17:54:27 PDT 2009</td>\n",
              "      <td>NO_QUERY</td>\n",
              "      <td>dalibigbaby</td>\n",
              "      <td>@cutienik00 yeah but I can't follow anyone else</td>\n",
              "      <td>yeah but i can not follow anyone else</td>\n",
              "      <td>yeah but i can not follow anyone else</td>\n",
              "      <td>yeah but i can not follow anyone else</td>\n",
              "      <td>yeah not follow anyone else</td>\n",
              "    </tr>\n",
              "    <tr>\n",
              "      <th>268624</th>\n",
              "      <td>0</td>\n",
              "      <td>1991400249</td>\n",
              "      <td>Mon Jun 01 06:58:20 PDT 2009</td>\n",
              "      <td>NO_QUERY</td>\n",
              "      <td>CelesteChong</td>\n",
              "      <td>@mclangan if I keep eating the way I do now, u...</td>\n",
              "      <td>if i keep eating the way i do now, u might rea...</td>\n",
              "      <td>if i keep eating the way i do now, u might rea...</td>\n",
              "      <td>if i keep eating the way i do now u might real...</td>\n",
              "      <td>keep eating way u might really need drag trekking</td>\n",
              "    </tr>\n",
              "  </tbody>\n",
              "</table>\n",
              "</div>\n",
              "      <button class=\"colab-df-convert\" onclick=\"convertToInteractive('df-398d5608-d169-4600-9e62-c60212f35010')\"\n",
              "              title=\"Convert this dataframe to an interactive table.\"\n",
              "              style=\"display:none;\">\n",
              "        \n",
              "  <svg xmlns=\"http://www.w3.org/2000/svg\" height=\"24px\"viewBox=\"0 0 24 24\"\n",
              "       width=\"24px\">\n",
              "    <path d=\"M0 0h24v24H0V0z\" fill=\"none\"/>\n",
              "    <path d=\"M18.56 5.44l.94 2.06.94-2.06 2.06-.94-2.06-.94-.94-2.06-.94 2.06-2.06.94zm-11 1L8.5 8.5l.94-2.06 2.06-.94-2.06-.94L8.5 2.5l-.94 2.06-2.06.94zm10 10l.94 2.06.94-2.06 2.06-.94-2.06-.94-.94-2.06-.94 2.06-2.06.94z\"/><path d=\"M17.41 7.96l-1.37-1.37c-.4-.4-.92-.59-1.43-.59-.52 0-1.04.2-1.43.59L10.3 9.45l-7.72 7.72c-.78.78-.78 2.05 0 2.83L4 21.41c.39.39.9.59 1.41.59.51 0 1.02-.2 1.41-.59l7.78-7.78 2.81-2.81c.8-.78.8-2.07 0-2.86zM5.41 20L4 18.59l7.72-7.72 1.47 1.35L5.41 20z\"/>\n",
              "  </svg>\n",
              "      </button>\n",
              "      \n",
              "  <style>\n",
              "    .colab-df-container {\n",
              "      display:flex;\n",
              "      flex-wrap:wrap;\n",
              "      gap: 12px;\n",
              "    }\n",
              "\n",
              "    .colab-df-convert {\n",
              "      background-color: #E8F0FE;\n",
              "      border: none;\n",
              "      border-radius: 50%;\n",
              "      cursor: pointer;\n",
              "      display: none;\n",
              "      fill: #1967D2;\n",
              "      height: 32px;\n",
              "      padding: 0 0 0 0;\n",
              "      width: 32px;\n",
              "    }\n",
              "\n",
              "    .colab-df-convert:hover {\n",
              "      background-color: #E2EBFA;\n",
              "      box-shadow: 0px 1px 2px rgba(60, 64, 67, 0.3), 0px 1px 3px 1px rgba(60, 64, 67, 0.15);\n",
              "      fill: #174EA6;\n",
              "    }\n",
              "\n",
              "    [theme=dark] .colab-df-convert {\n",
              "      background-color: #3B4455;\n",
              "      fill: #D2E3FC;\n",
              "    }\n",
              "\n",
              "    [theme=dark] .colab-df-convert:hover {\n",
              "      background-color: #434B5C;\n",
              "      box-shadow: 0px 1px 3px 1px rgba(0, 0, 0, 0.15);\n",
              "      filter: drop-shadow(0px 1px 2px rgba(0, 0, 0, 0.3));\n",
              "      fill: #FFFFFF;\n",
              "    }\n",
              "  </style>\n",
              "\n",
              "      <script>\n",
              "        const buttonEl =\n",
              "          document.querySelector('#df-398d5608-d169-4600-9e62-c60212f35010 button.colab-df-convert');\n",
              "        buttonEl.style.display =\n",
              "          google.colab.kernel.accessAllowed ? 'block' : 'none';\n",
              "\n",
              "        async function convertToInteractive(key) {\n",
              "          const element = document.querySelector('#df-398d5608-d169-4600-9e62-c60212f35010');\n",
              "          const dataTable =\n",
              "            await google.colab.kernel.invokeFunction('convertToInteractive',\n",
              "                                                     [key], {});\n",
              "          if (!dataTable) return;\n",
              "\n",
              "          const docLinkHtml = 'Like what you see? Visit the ' +\n",
              "            '<a target=\"_blank\" href=https://colab.research.google.com/notebooks/data_table.ipynb>data table notebook</a>'\n",
              "            + ' to learn more about interactive tables.';\n",
              "          element.innerHTML = '';\n",
              "          dataTable['output_type'] = 'display_data';\n",
              "          await google.colab.output.renderOutput(dataTable, element);\n",
              "          const docLink = document.createElement('div');\n",
              "          docLink.innerHTML = docLinkHtml;\n",
              "          element.appendChild(docLink);\n",
              "        }\n",
              "      </script>\n",
              "    </div>\n",
              "  </div>\n",
              "  "
            ]
          },
          "metadata": {},
          "execution_count": 10
        }
      ],
      "source": [
        "df_train.head(3)"
      ]
    },
    {
      "cell_type": "code",
      "source": [
        "df_train['sentiment'] = df_train['sentiment'].astype(str)\n",
        "df_test['sentiment'] = df_test['sentiment'].astype(str)"
      ],
      "metadata": {
        "id": "blKiynjGIfyL"
      },
      "execution_count": null,
      "outputs": []
    },
    {
      "cell_type": "code",
      "execution_count": null,
      "metadata": {
        "colab": {
          "base_uri": "https://localhost:8080/"
        },
        "id": "jEk15d_3lNyE",
        "outputId": "a3bb0eb7-c1f5-4728-fc9e-49f2c4edfc0b"
      },
      "outputs": [
        {
          "output_type": "execute_result",
          "data": {
            "text/plain": [
              "((8500, 10), (1500, 10))"
            ]
          },
          "metadata": {},
          "execution_count": 12
        }
      ],
      "source": [
        "from sklearn.model_selection import train_test_split\n",
        "\n",
        "train, dev = train_test_split(df_train, train_size = 0.85, random_state = 42, shuffle = True)\n",
        "train.shape, dev.shape"
      ]
    },
    {
      "cell_type": "code",
      "execution_count": null,
      "metadata": {
        "id": "J5FdAGuWmJJq"
      },
      "outputs": [],
      "source": [
        "train_fast = train.rename(columns = {'cleaned_tweet' : 'text', 'sentiment' : 'labels'})\n",
        "train_fast = train_fast[['labels', 'text']]\n",
        "# train_fast['labels'] = '__label__' + train_fast['labels'].astype(str)\n",
        "# train_fast.head(3)"
      ]
    },
    {
      "cell_type": "code",
      "execution_count": null,
      "metadata": {
        "id": "R1Eg32vKmTEb"
      },
      "outputs": [],
      "source": [
        "dev_fast = dev.rename(columns = {'cleaned_tweet' : 'text', 'sentiment' : 'labels'})\n",
        "dev_fast = dev_fast[['labels', 'text']]\n",
        "# dev_fast['labels'] = '__label__' + dev_fast['labels'].astype(str)\n",
        "# dev_fast.head(3)"
      ]
    },
    {
      "cell_type": "code",
      "execution_count": null,
      "metadata": {
        "id": "Oxao7gxZnK0M"
      },
      "outputs": [],
      "source": [
        "test_fast = df_test.rename(columns = {'cleaned_tweet' : 'text', 'sentiment' : 'labels'})\n",
        "test_fast = test_fast[['labels', 'text']]\n",
        "# test_fast['labels'] = '__label__' + test_fast['labels'].astype(str)\n",
        "# test_fast.head(3)"
      ]
    },
    {
      "cell_type": "code",
      "execution_count": null,
      "metadata": {
        "id": "4MM6R9RPnZLs"
      },
      "outputs": [],
      "source": [
        "import re\n",
        "\n",
        "train_fast['text'] = train_fast['text'].astype(str).apply(lambda x : re.sub(r'\\s+', ' ', x).strip())\n",
        "dev_fast['text'] = dev_fast['text'].astype(str).apply(lambda x : re.sub(r'\\s+', ' ', x).strip())\n",
        "test_fast['text'] = test_fast['text'].astype(str).apply(lambda x : re.sub(r'\\s+', ' ', x).strip())\n",
        "\n",
        "train_fast.to_csv('/content/drive/MyDrive/Colab Notebooks/train_corpus.csv', index = False,\n",
        "                  sep = '\\t',\n",
        "                  # header = False\n",
        "                )\n",
        "dev_fast.to_csv('/content/drive/MyDrive/Colab Notebooks/dev_corpus.csv', index = False,\n",
        "                  sep = '\\t',\n",
        "                  # header = False\n",
        "                )\n",
        "test_fast.to_csv('/content/drive/MyDrive/Colab Notebooks/test_corpus.csv', index = False,\n",
        "                  sep = '\\t',\n",
        "                #  header = False\n",
        "                )"
      ]
    },
    {
      "cell_type": "code",
      "execution_count": null,
      "metadata": {
        "colab": {
          "base_uri": "https://localhost:8080/"
        },
        "id": "tYexAlEM9duB",
        "outputId": "71ac047a-1491-4e66-edd7-fc03fb60f59f"
      },
      "outputs": [
        {
          "output_type": "execute_result",
          "data": {
            "text/plain": [
              "(Index(['labels', 'text'], dtype='object'),\n",
              " Index(['labels', 'text'], dtype='object'),\n",
              " Index(['labels', 'text'], dtype='object'))"
            ]
          },
          "metadata": {},
          "execution_count": 19
        }
      ],
      "source": [
        "train_fast.columns, test_fast.columns, dev_fast.columns"
      ]
    },
    {
      "cell_type": "code",
      "source": [
        "! pip install flair"
      ],
      "metadata": {
        "colab": {
          "base_uri": "https://localhost:8080/"
        },
        "id": "oIW6izWDwMsj",
        "outputId": "4b4cbc3a-1cf8-4682-94e2-0e11a6abc9a9"
      },
      "execution_count": null,
      "outputs": [
        {
          "output_type": "stream",
          "name": "stdout",
          "text": [
            "Looking in indexes: https://pypi.org/simple, https://us-python.pkg.dev/colab-wheels/public/simple/\n",
            "Collecting flair\n",
            "  Downloading flair-0.11.3-py3-none-any.whl (401 kB)\n",
            "\u001b[2K     \u001b[90m━━━━━━━━━━━━━━━━━━━━━━━━━━━━━━━━━━━━━━\u001b[0m \u001b[32m401.9/401.9 KB\u001b[0m \u001b[31m28.3 MB/s\u001b[0m eta \u001b[36m0:00:00\u001b[0m\n",
            "\u001b[?25hCollecting bpemb>=0.3.2\n",
            "  Downloading bpemb-0.3.4-py3-none-any.whl (19 kB)\n",
            "Collecting deprecated>=1.2.4\n",
            "  Downloading Deprecated-1.2.13-py2.py3-none-any.whl (9.6 kB)\n",
            "Collecting langdetect\n",
            "  Downloading langdetect-1.0.9.tar.gz (981 kB)\n",
            "\u001b[2K     \u001b[90m━━━━━━━━━━━━━━━━━━━━━━━━━━━━━━━━━━━━━━\u001b[0m \u001b[32m981.5/981.5 KB\u001b[0m \u001b[31m68.3 MB/s\u001b[0m eta \u001b[36m0:00:00\u001b[0m\n",
            "\u001b[?25h  Preparing metadata (setup.py) ... \u001b[?25l\u001b[?25hdone\n",
            "Requirement already satisfied: scikit-learn>=0.21.3 in /usr/local/lib/python3.8/dist-packages (from flair) (1.0.2)\n",
            "Requirement already satisfied: gensim>=3.4.0 in /usr/local/lib/python3.8/dist-packages (from flair) (3.6.0)\n",
            "Collecting sentencepiece==0.1.95\n",
            "  Downloading sentencepiece-0.1.95-cp38-cp38-manylinux2014_x86_64.whl (1.2 MB)\n",
            "\u001b[2K     \u001b[90m━━━━━━━━━━━━━━━━━━━━━━━━━━━━━━━━━━━━━━━━\u001b[0m \u001b[32m1.2/1.2 MB\u001b[0m \u001b[31m71.1 MB/s\u001b[0m eta \u001b[36m0:00:00\u001b[0m\n",
            "\u001b[?25hRequirement already satisfied: torch!=1.8,>=1.5.0 in /usr/local/lib/python3.8/dist-packages (from flair) (1.13.1+cu116)\n",
            "Collecting wikipedia-api\n",
            "  Downloading Wikipedia_API-0.5.8-py3-none-any.whl (13 kB)\n",
            "Requirement already satisfied: matplotlib>=2.2.3 in /usr/local/lib/python3.8/dist-packages (from flair) (3.2.2)\n",
            "Collecting segtok>=1.5.7\n",
            "  Downloading segtok-1.5.11-py3-none-any.whl (24 kB)\n",
            "Collecting huggingface-hub\n",
            "  Downloading huggingface_hub-0.12.0-py3-none-any.whl (190 kB)\n",
            "\u001b[2K     \u001b[90m━━━━━━━━━━━━━━━━━━━━━━━━━━━━━━━━━━━━━━\u001b[0m \u001b[32m190.3/190.3 KB\u001b[0m \u001b[31m22.6 MB/s\u001b[0m eta \u001b[36m0:00:00\u001b[0m\n",
            "\u001b[?25hCollecting janome\n",
            "  Downloading Janome-0.4.2-py2.py3-none-any.whl (19.7 MB)\n",
            "\u001b[2K     \u001b[90m━━━━━━━━━━━━━━━━━━━━━━━━━━━━━━━━━━━━━━━━\u001b[0m \u001b[32m19.7/19.7 MB\u001b[0m \u001b[31m23.6 MB/s\u001b[0m eta \u001b[36m0:00:00\u001b[0m\n",
            "\u001b[?25hRequirement already satisfied: tabulate in /usr/local/lib/python3.8/dist-packages (from flair) (0.8.10)\n",
            "Requirement already satisfied: lxml in /usr/local/lib/python3.8/dist-packages (from flair) (4.9.2)\n",
            "Collecting transformers>=4.0.0\n",
            "  Downloading transformers-4.26.0-py3-none-any.whl (6.3 MB)\n",
            "\u001b[2K     \u001b[90m━━━━━━━━━━━━━━━━━━━━━━━━━━━━━━━━━━━━━━━━\u001b[0m \u001b[32m6.3/6.3 MB\u001b[0m \u001b[31m116.6 MB/s\u001b[0m eta \u001b[36m0:00:00\u001b[0m\n",
            "\u001b[?25hCollecting hyperopt>=0.2.7\n",
            "  Downloading hyperopt-0.2.7-py2.py3-none-any.whl (1.6 MB)\n",
            "\u001b[2K     \u001b[90m━━━━━━━━━━━━━━━━━━━━━━━━━━━━━━━━━━━━━━━━\u001b[0m \u001b[32m1.6/1.6 MB\u001b[0m \u001b[31m91.1 MB/s\u001b[0m eta \u001b[36m0:00:00\u001b[0m\n",
            "\u001b[?25hCollecting sqlitedict>=1.6.0\n",
            "  Downloading sqlitedict-2.1.0.tar.gz (21 kB)\n",
            "  Preparing metadata (setup.py) ... \u001b[?25l\u001b[?25hdone\n",
            "Requirement already satisfied: gdown==4.4.0 in /usr/local/lib/python3.8/dist-packages (from flair) (4.4.0)\n",
            "Requirement already satisfied: python-dateutil>=2.6.1 in /usr/local/lib/python3.8/dist-packages (from flair) (2.8.2)\n",
            "Requirement already satisfied: more-itertools in /usr/local/lib/python3.8/dist-packages (from flair) (9.0.0)\n",
            "Collecting conllu>=4.0\n",
            "  Downloading conllu-4.5.2-py2.py3-none-any.whl (16 kB)\n",
            "Collecting mpld3==0.3\n",
            "  Downloading mpld3-0.3.tar.gz (788 kB)\n",
            "\u001b[2K     \u001b[90m━━━━━━━━━━━━━━━━━━━━━━━━━━━━━━━━━━━━━━━\u001b[0m \u001b[32m788.5/788.5 KB\u001b[0m \u001b[31m4.0 MB/s\u001b[0m eta \u001b[36m0:00:00\u001b[0m\n",
            "\u001b[?25h  Preparing metadata (setup.py) ... \u001b[?25l\u001b[?25hdone\n",
            "Collecting konoha<5.0.0,>=4.0.0\n",
            "  Downloading konoha-4.6.5-py3-none-any.whl (20 kB)\n",
            "Collecting pptree\n",
            "  Downloading pptree-3.1.tar.gz (3.0 kB)\n",
            "  Preparing metadata (setup.py) ... \u001b[?25l\u001b[?25hdone\n",
            "Requirement already satisfied: regex in /usr/local/lib/python3.8/dist-packages (from flair) (2022.6.2)\n",
            "Collecting ftfy\n",
            "  Downloading ftfy-6.1.1-py3-none-any.whl (53 kB)\n",
            "\u001b[2K     \u001b[90m━━━━━━━━━━━━━━━━━━━━━━━━━━━━━━━━━━━━━━━━\u001b[0m \u001b[32m53.1/53.1 KB\u001b[0m \u001b[31m7.7 MB/s\u001b[0m eta \u001b[36m0:00:00\u001b[0m\n",
            "\u001b[?25hRequirement already satisfied: tqdm>=4.26.0 in /usr/local/lib/python3.8/dist-packages (from flair) (4.64.1)\n",
            "Requirement already satisfied: requests[socks] in /usr/local/lib/python3.8/dist-packages (from gdown==4.4.0->flair) (2.25.1)\n",
            "Requirement already satisfied: six in /usr/local/lib/python3.8/dist-packages (from gdown==4.4.0->flair) (1.15.0)\n",
            "Requirement already satisfied: beautifulsoup4 in /usr/local/lib/python3.8/dist-packages (from gdown==4.4.0->flair) (4.6.3)\n",
            "Requirement already satisfied: filelock in /usr/local/lib/python3.8/dist-packages (from gdown==4.4.0->flair) (3.9.0)\n",
            "Requirement already satisfied: numpy in /usr/local/lib/python3.8/dist-packages (from bpemb>=0.3.2->flair) (1.21.6)\n",
            "Requirement already satisfied: wrapt<2,>=1.10 in /usr/local/lib/python3.8/dist-packages (from deprecated>=1.2.4->flair) (1.14.1)\n",
            "Requirement already satisfied: scipy>=0.18.1 in /usr/local/lib/python3.8/dist-packages (from gensim>=3.4.0->flair) (1.7.3)\n",
            "Requirement already satisfied: smart-open>=1.2.1 in /usr/local/lib/python3.8/dist-packages (from gensim>=3.4.0->flair) (6.3.0)\n",
            "Collecting py4j\n",
            "  Downloading py4j-0.10.9.7-py2.py3-none-any.whl (200 kB)\n",
            "\u001b[2K     \u001b[90m━━━━━━━━━━━━━━━━━━━━━━━━━━━━━━━━━━━━━━\u001b[0m \u001b[32m200.5/200.5 KB\u001b[0m \u001b[31m24.0 MB/s\u001b[0m eta \u001b[36m0:00:00\u001b[0m\n",
            "\u001b[?25hRequirement already satisfied: networkx>=2.2 in /usr/local/lib/python3.8/dist-packages (from hyperopt>=0.2.7->flair) (3.0)\n",
            "Requirement already satisfied: future in /usr/local/lib/python3.8/dist-packages (from hyperopt>=0.2.7->flair) (0.16.0)\n",
            "Requirement already satisfied: cloudpickle in /usr/local/lib/python3.8/dist-packages (from hyperopt>=0.2.7->flair) (2.2.1)\n",
            "Collecting overrides<4.0.0,>=3.0.0\n",
            "  Downloading overrides-3.1.0.tar.gz (11 kB)\n",
            "  Preparing metadata (setup.py) ... \u001b[?25l\u001b[?25hdone\n",
            "Collecting importlib-metadata<4.0.0,>=3.7.0\n",
            "  Downloading importlib_metadata-3.10.1-py3-none-any.whl (14 kB)\n",
            "Requirement already satisfied: cycler>=0.10 in /usr/local/lib/python3.8/dist-packages (from matplotlib>=2.2.3->flair) (0.11.0)\n",
            "Requirement already satisfied: kiwisolver>=1.0.1 in /usr/local/lib/python3.8/dist-packages (from matplotlib>=2.2.3->flair) (1.4.4)\n",
            "Requirement already satisfied: pyparsing!=2.0.4,!=2.1.2,!=2.1.6,>=2.0.1 in /usr/local/lib/python3.8/dist-packages (from matplotlib>=2.2.3->flair) (3.0.9)\n",
            "Requirement already satisfied: joblib>=0.11 in /usr/local/lib/python3.8/dist-packages (from scikit-learn>=0.21.3->flair) (1.2.0)\n",
            "Requirement already satisfied: threadpoolctl>=2.0.0 in /usr/local/lib/python3.8/dist-packages (from scikit-learn>=0.21.3->flair) (3.1.0)\n",
            "Requirement already satisfied: typing-extensions in /usr/local/lib/python3.8/dist-packages (from torch!=1.8,>=1.5.0->flair) (4.4.0)\n",
            "Requirement already satisfied: packaging>=20.0 in /usr/local/lib/python3.8/dist-packages (from transformers>=4.0.0->flair) (23.0)\n",
            "Requirement already satisfied: pyyaml>=5.1 in /usr/local/lib/python3.8/dist-packages (from transformers>=4.0.0->flair) (6.0)\n",
            "Collecting tokenizers!=0.11.3,<0.14,>=0.11.1\n",
            "  Downloading tokenizers-0.13.2-cp38-cp38-manylinux_2_17_x86_64.manylinux2014_x86_64.whl (7.6 MB)\n",
            "\u001b[2K     \u001b[90m━━━━━━━━━━━━━━━━━━━━━━━━━━━━━━━━━━━━━━━━\u001b[0m \u001b[32m7.6/7.6 MB\u001b[0m \u001b[31m114.5 MB/s\u001b[0m eta \u001b[36m0:00:00\u001b[0m\n",
            "\u001b[?25hRequirement already satisfied: wcwidth>=0.2.5 in /usr/local/lib/python3.8/dist-packages (from ftfy->flair) (0.2.6)\n",
            "Requirement already satisfied: zipp>=0.5 in /usr/local/lib/python3.8/dist-packages (from importlib-metadata<4.0.0,>=3.7.0->konoha<5.0.0,>=4.0.0->flair) (3.12.0)\n",
            "Requirement already satisfied: idna<3,>=2.5 in /usr/local/lib/python3.8/dist-packages (from requests[socks]->gdown==4.4.0->flair) (2.10)\n",
            "Requirement already satisfied: certifi>=2017.4.17 in /usr/local/lib/python3.8/dist-packages (from requests[socks]->gdown==4.4.0->flair) (2022.12.7)\n",
            "Requirement already satisfied: urllib3<1.27,>=1.21.1 in /usr/local/lib/python3.8/dist-packages (from requests[socks]->gdown==4.4.0->flair) (1.24.3)\n",
            "Requirement already satisfied: chardet<5,>=3.0.2 in /usr/local/lib/python3.8/dist-packages (from requests[socks]->gdown==4.4.0->flair) (4.0.0)\n",
            "Requirement already satisfied: PySocks!=1.5.7,>=1.5.6 in /usr/local/lib/python3.8/dist-packages (from requests[socks]->gdown==4.4.0->flair) (1.7.1)\n",
            "Building wheels for collected packages: mpld3, sqlitedict, langdetect, pptree, overrides\n",
            "  Building wheel for mpld3 (setup.py) ... \u001b[?25l\u001b[?25hdone\n",
            "  Created wheel for mpld3: filename=mpld3-0.3-py3-none-any.whl size=116702 sha256=10da99133670757c17360566596d99634045b21f7613e99adba8caad7ee74863\n",
            "  Stored in directory: /root/.cache/pip/wheels/3d/9f/9d/d806a20bd97bc7076d724fa3e69fa5be61836ba16b2ffa6126\n",
            "  Building wheel for sqlitedict (setup.py) ... \u001b[?25l\u001b[?25hdone\n",
            "  Created wheel for sqlitedict: filename=sqlitedict-2.1.0-py3-none-any.whl size=16869 sha256=f65b690f8ccde42bfe0e294b76e34d9205f815c0ddb27b2d82de6211b7c976da\n",
            "  Stored in directory: /root/.cache/pip/wheels/04/c6/16/46e174009277f9bccdaa7215a243939d2f70180804b249bf3a\n",
            "  Building wheel for langdetect (setup.py) ... \u001b[?25l\u001b[?25hdone\n",
            "  Created wheel for langdetect: filename=langdetect-1.0.9-py3-none-any.whl size=993242 sha256=332f14137fe1c04bd5ccc7107004f0c5def770c21a0c52db6f7d99a53b3839a2\n",
            "  Stored in directory: /root/.cache/pip/wheels/13/c7/b0/79f66658626032e78fc1a83103690ef6797d551cb22e56e734\n",
            "  Building wheel for pptree (setup.py) ... \u001b[?25l\u001b[?25hdone\n",
            "  Created wheel for pptree: filename=pptree-3.1-py3-none-any.whl size=4629 sha256=7cd9165e6bb17456903ef71c524ab87bbb76731896a2734862309916c40e1e11\n",
            "  Stored in directory: /root/.cache/pip/wheels/e1/8b/30/5b20240d3d13a9dfafb6a6dd49d1b541c86d39812cb3690edf\n",
            "  Building wheel for overrides (setup.py) ... \u001b[?25l\u001b[?25hdone\n",
            "  Created wheel for overrides: filename=overrides-3.1.0-py3-none-any.whl size=10187 sha256=18ba99e72dab48c5e74e50b7bddfbf64f7e8be3bc464c5d0ce85f00426636085\n",
            "  Stored in directory: /root/.cache/pip/wheels/6a/4f/72/28857f75625b263e2e3f5ab2fc4416c0a85960ac6485007eaa\n",
            "Successfully built mpld3 sqlitedict langdetect pptree overrides\n",
            "Installing collected packages: tokenizers, sqlitedict, sentencepiece, py4j, pptree, overrides, mpld3, janome, segtok, langdetect, importlib-metadata, ftfy, deprecated, conllu, wikipedia-api, konoha, hyperopt, huggingface-hub, transformers, bpemb, flair\n",
            "  Attempting uninstall: importlib-metadata\n",
            "    Found existing installation: importlib-metadata 6.0.0\n",
            "    Uninstalling importlib-metadata-6.0.0:\n",
            "      Successfully uninstalled importlib-metadata-6.0.0\n",
            "  Attempting uninstall: hyperopt\n",
            "    Found existing installation: hyperopt 0.1.2\n",
            "    Uninstalling hyperopt-0.1.2:\n",
            "      Successfully uninstalled hyperopt-0.1.2\n",
            "\u001b[31mERROR: pip's dependency resolver does not currently take into account all the packages that are installed. This behaviour is the source of the following dependency conflicts.\n",
            "markdown 3.4.1 requires importlib-metadata>=4.4; python_version < \"3.10\", but you have importlib-metadata 3.10.1 which is incompatible.\n",
            "gym 0.25.2 requires importlib-metadata>=4.8.0; python_version < \"3.10\", but you have importlib-metadata 3.10.1 which is incompatible.\u001b[0m\u001b[31m\n",
            "\u001b[0mSuccessfully installed bpemb-0.3.4 conllu-4.5.2 deprecated-1.2.13 flair-0.11.3 ftfy-6.1.1 huggingface-hub-0.12.0 hyperopt-0.2.7 importlib-metadata-3.10.1 janome-0.4.2 konoha-4.6.5 langdetect-1.0.9 mpld3-0.3 overrides-3.1.0 pptree-3.1 py4j-0.10.9.7 segtok-1.5.11 sentencepiece-0.1.95 sqlitedict-2.1.0 tokenizers-0.13.2 transformers-4.26.0 wikipedia-api-0.5.8\n"
          ]
        }
      ]
    },
    {
      "cell_type": "code",
      "execution_count": null,
      "metadata": {
        "id": "MRni8CKBnlhA"
      },
      "outputs": [],
      "source": [
        "from flair.datasets import ClassificationCorpus, CSVClassificationCorpus\n",
        "from flair.data import Corpus"
      ]
    },
    {
      "cell_type": "code",
      "execution_count": null,
      "metadata": {
        "id": "fc0OZCgmodTD"
      },
      "outputs": [],
      "source": [
        "column_map = {0 : 'labels', 1 : 'text'}\n",
        "label_type = 'labels'"
      ]
    },
    {
      "cell_type": "code",
      "execution_count": null,
      "metadata": {
        "colab": {
          "base_uri": "https://localhost:8080/"
        },
        "id": "QY_J-dpxqMt9",
        "outputId": "10f62734-0c61-4bcd-ee54-905af367dd49"
      },
      "outputs": [
        {
          "output_type": "stream",
          "name": "stdout",
          "text": [
            "2023-02-06 08:05:03,237 Reading data from /content/drive/MyDrive/Colab Notebooks\n",
            "2023-02-06 08:05:03,241 Train: /content/drive/MyDrive/Colab Notebooks/train_corpus.csv\n",
            "2023-02-06 08:05:03,243 Dev: /content/drive/MyDrive/Colab Notebooks/dev_corpus.csv\n",
            "2023-02-06 08:05:03,245 Test: /content/drive/MyDrive/Colab Notebooks/test_corpus.csv\n"
          ]
        }
      ],
      "source": [
        "corpus = CSVClassificationCorpus('/content/drive/MyDrive/Colab Notebooks',\n",
        "                                  column_name_map = column_map, skip_header = True, delimiter = '\\t', label_type = label_type,\n",
        "                                  train_file = 'train_corpus.csv', test_file = 'test_corpus.csv', dev_file = 'dev_corpus.csv')"
      ]
    },
    {
      "cell_type": "code",
      "execution_count": null,
      "metadata": {
        "colab": {
          "base_uri": "https://localhost:8080/"
        },
        "id": "NWstSsFQq3jC",
        "outputId": "b247b14d-4ee5-404a-e708-1e00d1fa93b1"
      },
      "outputs": [
        {
          "output_type": "stream",
          "name": "stdout",
          "text": [
            "2023-02-06 08:05:12,736 Computing label dictionary. Progress:\n"
          ]
        },
        {
          "output_type": "stream",
          "name": "stderr",
          "text": [
            "8500it [00:02, 4159.02it/s]"
          ]
        },
        {
          "output_type": "stream",
          "name": "stdout",
          "text": [
            "2023-02-06 08:05:14,825 Dictionary created for label 'labels' with 3 values: 1 (seen 4257 times), 0 (seen 4243 times)\n"
          ]
        },
        {
          "output_type": "stream",
          "name": "stderr",
          "text": [
            "\n"
          ]
        }
      ],
      "source": [
        "label_dict = corpus.make_label_dictionary(label_type = label_type)"
      ]
    },
    {
      "cell_type": "code",
      "execution_count": null,
      "metadata": {
        "colab": {
          "base_uri": "https://localhost:8080/"
        },
        "id": "vXp9hrjA6D46",
        "outputId": "95b8c88c-835e-4b50-abb1-4e343852768e"
      },
      "outputs": [
        {
          "output_type": "execute_result",
          "data": {
            "text/plain": [
              "{'item2idx': {b'<unk>': 0, b'1': 1, b'0': 2},\n",
              " 'idx2item': [b'<unk>', b'1', b'0'],\n",
              " 'add_unk': True,\n",
              " 'multi_label': False,\n",
              " 'span_labels': False}"
            ]
          },
          "metadata": {},
          "execution_count": 7
        }
      ],
      "source": [
        "label_dict.__dict__"
      ]
    },
    {
      "cell_type": "code",
      "source": [
        "# from flair.datasets import TREC_6\n",
        "\n",
        "# c = TREC_6()\n",
        "# label_type = 'question_class'\n",
        "# label_dict = c.make_label_dictionary(label_type=label_type)\n",
        "\n",
        "# from pprint import pprint\n",
        "\n",
        "# for sample in corpus.train:\n",
        "#   pprint(sample.annotation_layers, indent = 4)\n",
        "#   break\n",
        "\n",
        "# label_dict.__dict__\n",
        "\n",
        "del c"
      ],
      "metadata": {
        "id": "hBPa85jRHX3s"
      },
      "execution_count": null,
      "outputs": []
    },
    {
      "cell_type": "code",
      "execution_count": null,
      "metadata": {
        "colab": {
          "base_uri": "https://localhost:8080/"
        },
        "id": "zd3cXJi97PSN",
        "outputId": "bf21798f-f68e-4e8a-e684-01ad5d5c2fc2"
      },
      "outputs": [
        {
          "output_type": "stream",
          "name": "stdout",
          "text": [
            "{   'labels': [   'Sentence: \"i am aware of course . anything i can do for you !\"'/'1' (1.0)]}\n"
          ]
        }
      ],
      "source": [
        "from pprint import pprint\n",
        "\n",
        "for sample in corpus.train:\n",
        "  pprint(sample.annotation_layers, indent = 4)\n",
        "  break"
      ]
    },
    {
      "cell_type": "code",
      "source": [
        "# ! pip uninstall flair\n",
        "# ! pip install flair"
      ],
      "metadata": {
        "id": "kONxk6DqQ_Te"
      },
      "execution_count": null,
      "outputs": []
    },
    {
      "cell_type": "code",
      "execution_count": null,
      "metadata": {
        "colab": {
          "base_uri": "https://localhost:8080/"
        },
        "id": "PHRyqh4QrDqh",
        "outputId": "c2c97034-d27f-4885-95c7-aa68fd58db85"
      },
      "outputs": [
        {
          "metadata": {
            "tags": null
          },
          "name": "stdout",
          "output_type": "stream",
          "text": [
            "2023-02-06 08:28:45,031 ----------------------------------------------------------------------------------------------------\n",
            "2023-02-06 08:28:45,036 Model: \"TextClassifier(\n",
            "  (decoder): Linear(in_features=512, out_features=3, bias=True)\n",
            "  (dropout): Dropout(p=0.0, inplace=False)\n",
            "  (locked_dropout): LockedDropout(p=0.0)\n",
            "  (word_dropout): WordDropout(p=0.0)\n",
            "  (loss_function): CrossEntropyLoss()\n",
            "  (document_embeddings): DocumentLSTMEmbeddings(\n",
            "    (embeddings): StackedEmbeddings(\n",
            "      (list_embedding_0): FlairEmbeddings(\n",
            "        (lm): LanguageModel(\n",
            "          (drop): Dropout(p=0.25, inplace=False)\n",
            "          (encoder): Embedding(275, 100)\n",
            "          (rnn): LSTM(100, 1024)\n",
            "          (decoder): Linear(in_features=1024, out_features=275, bias=True)\n",
            "        )\n",
            "      )\n",
            "    )\n",
            "    (word_reprojection_map): Linear(in_features=1024, out_features=256, bias=True)\n",
            "    (rnn): GRU(256, 512)\n",
            "    (dropout): Dropout(p=0.5, inplace=False)\n",
            "  )\n",
            "  (weights): None\n",
            "  (weight_tensor) None\n",
            ")\"\n",
            "2023-02-06 08:28:45,039 ----------------------------------------------------------------------------------------------------\n",
            "2023-02-06 08:28:45,042 Corpus: \"Corpus: 8500 train + 1500 dev + 359 test sentences\"\n",
            "2023-02-06 08:28:45,045 ----------------------------------------------------------------------------------------------------\n",
            "2023-02-06 08:28:45,048 Parameters:\n",
            "2023-02-06 08:28:45,051  - learning_rate: \"0.010000\"\n",
            "2023-02-06 08:28:45,052  - mini_batch_size: \"64\"\n",
            "2023-02-06 08:28:45,056  - patience: \"3\"\n",
            "2023-02-06 08:28:45,057  - anneal_factor: \"0.5\"\n",
            "2023-02-06 08:28:45,061  - max_epochs: \"35\"\n",
            "2023-02-06 08:28:45,063  - shuffle: \"True\"\n",
            "2023-02-06 08:28:45,069  - train_with_dev: \"False\"\n",
            "2023-02-06 08:28:45,071  - batch_growth_annealing: \"False\"\n",
            "2023-02-06 08:28:45,075 ----------------------------------------------------------------------------------------------------\n",
            "2023-02-06 08:28:45,078 Model training base path: \"/content/drive/MyDrive/Colab Notebooks/models/flair-sentiment-classifier\"\n",
            "2023-02-06 08:28:45,081 ----------------------------------------------------------------------------------------------------\n",
            "2023-02-06 08:28:45,083 Device: cuda:0\n",
            "2023-02-06 08:28:45,085 ----------------------------------------------------------------------------------------------------\n",
            "2023-02-06 08:28:45,089 Embeddings storage mode: gpu\n",
            "2023-02-06 08:28:45,091 ----------------------------------------------------------------------------------------------------\n"
          ]
        },
        {
          "metadata": {
            "tags": null
          },
          "name": "stderr",
          "output_type": "stream",
          "text": [
            "<ipython-input-12-5b088b98c803>:16: DeprecationWarning: Call to deprecated method __init__. (The functionality of this class is moved to 'DocumentRNNEmbeddings') -- Deprecated since version 0.4.\n",
            "  document_embeddings = DocumentLSTMEmbeddings(word_embeddings, hidden_size = 512, reproject_words = True,\n",
            "/usr/local/lib/python3.8/dist-packages/flair/trainers/trainer.py:64: UserWarning: There should be no best model saved at epoch 1 except there is a model from previous trainings in your training folder. All previous best models will be deleted.\n",
            "  warnings.warn(\n"
          ]
        },
        {
          "metadata": {
            "tags": null
          },
          "name": "stdout",
          "output_type": "stream",
          "text": [
            "2023-02-06 08:28:46,882 epoch 1 - iter 13/133 - loss 0.01562834 - samples/sec: 514.51 - lr: 0.010000\n",
            "2023-02-06 08:28:48,397 epoch 1 - iter 26/133 - loss 0.01481466 - samples/sec: 748.73 - lr: 0.010000\n",
            "2023-02-06 08:28:49,638 epoch 1 - iter 39/133 - loss 0.01423043 - samples/sec: 772.85 - lr: 0.010000\n",
            "2023-02-06 08:28:51,189 epoch 1 - iter 52/133 - loss 0.01381341 - samples/sec: 600.83 - lr: 0.010000\n",
            "2023-02-06 08:28:52,402 epoch 1 - iter 65/133 - loss 0.01349711 - samples/sec: 796.47 - lr: 0.010000\n",
            "2023-02-06 08:28:53,877 epoch 1 - iter 78/133 - loss 0.01323276 - samples/sec: 765.73 - lr: 0.010000\n",
            "2023-02-06 08:28:55,144 epoch 1 - iter 91/133 - loss 0.01301969 - samples/sec: 759.35 - lr: 0.010000\n",
            "2023-02-06 08:28:56,401 epoch 1 - iter 104/133 - loss 0.01283645 - samples/sec: 765.85 - lr: 0.010000\n",
            "2023-02-06 08:28:57,895 epoch 1 - iter 117/133 - loss 0.01267868 - samples/sec: 760.35 - lr: 0.010000\n",
            "2023-02-06 08:28:59,155 epoch 1 - iter 130/133 - loss 0.01254156 - samples/sec: 766.70 - lr: 0.010000\n",
            "2023-02-06 08:28:59,435 ----------------------------------------------------------------------------------------------------\n",
            "2023-02-06 08:28:59,440 EPOCH 1 done: loss 0.0125 - lr 0.010000\n"
          ]
        },
        {
          "metadata": {
            "tags": null
          },
          "name": "stderr",
          "output_type": "stream",
          "text": [
            "100%|██████████| 24/24 [00:02<00:00,  8.31it/s]"
          ]
        },
        {
          "metadata": {
            "tags": null
          },
          "name": "stdout",
          "output_type": "stream",
          "text": [
            "2023-02-06 08:29:02,345 Evaluating as a multi-label problem: False\n",
            "2023-02-06 08:29:02,360 DEV : loss 0.01149754598736763 - f1-score (micro avg)  0.5393\n"
          ]
        },
        {
          "metadata": {
            "tags": null
          },
          "name": "stderr",
          "output_type": "stream",
          "text": [
            "\n"
          ]
        },
        {
          "metadata": {
            "tags": null
          },
          "name": "stdout",
          "output_type": "stream",
          "text": [
            "2023-02-06 08:29:02,938 BAD EPOCHS (no improvement): 0\n",
            "2023-02-06 08:29:02,944 saving best model\n",
            "2023-02-06 08:29:03,019 ----------------------------------------------------------------------------------------------------\n",
            "2023-02-06 08:29:04,350 epoch 2 - iter 13/133 - loss 0.01134125 - samples/sec: 713.12 - lr: 0.010000\n",
            "2023-02-06 08:29:05,867 epoch 2 - iter 26/133 - loss 0.01133783 - samples/sec: 745.31 - lr: 0.010000\n",
            "2023-02-06 08:29:07,096 epoch 2 - iter 39/133 - loss 0.01130036 - samples/sec: 785.18 - lr: 0.010000\n",
            "2023-02-06 08:29:08,398 epoch 2 - iter 52/133 - loss 0.01126930 - samples/sec: 739.05 - lr: 0.010000\n",
            "2023-02-06 08:29:10,210 epoch 2 - iter 65/133 - loss 0.01123679 - samples/sec: 611.49 - lr: 0.010000\n",
            "2023-02-06 08:29:12,013 epoch 2 - iter 78/133 - loss 0.01119918 - samples/sec: 563.65 - lr: 0.010000\n",
            "2023-02-06 08:29:13,567 epoch 2 - iter 91/133 - loss 0.01119660 - samples/sec: 722.13 - lr: 0.010000\n",
            "2023-02-06 08:29:14,863 epoch 2 - iter 104/133 - loss 0.01118887 - samples/sec: 739.97 - lr: 0.010000\n",
            "2023-02-06 08:29:16,413 epoch 2 - iter 117/133 - loss 0.01117338 - samples/sec: 736.63 - lr: 0.010000\n",
            "2023-02-06 08:29:17,679 epoch 2 - iter 130/133 - loss 0.01115977 - samples/sec: 754.47 - lr: 0.010000\n",
            "2023-02-06 08:29:17,964 ----------------------------------------------------------------------------------------------------\n",
            "2023-02-06 08:29:17,967 EPOCH 2 done: loss 0.0112 - lr 0.010000\n"
          ]
        },
        {
          "metadata": {
            "tags": null
          },
          "name": "stderr",
          "output_type": "stream",
          "text": [
            "100%|██████████| 24/24 [00:02<00:00, 10.01it/s]"
          ]
        },
        {
          "metadata": {
            "tags": null
          },
          "name": "stdout",
          "output_type": "stream",
          "text": [
            "2023-02-06 08:29:20,384 Evaluating as a multi-label problem: False\n",
            "2023-02-06 08:29:20,400 DEV : loss 0.011094754561781883 - f1-score (micro avg)  0.586\n"
          ]
        },
        {
          "metadata": {
            "tags": null
          },
          "name": "stderr",
          "output_type": "stream",
          "text": [
            "\n"
          ]
        },
        {
          "metadata": {
            "tags": null
          },
          "name": "stdout",
          "output_type": "stream",
          "text": [
            "2023-02-06 08:29:20,760 BAD EPOCHS (no improvement): 0\n",
            "2023-02-06 08:29:20,767 saving best model\n",
            "2023-02-06 08:29:20,836 ----------------------------------------------------------------------------------------------------\n",
            "2023-02-06 08:29:22,455 epoch 3 - iter 13/133 - loss 0.01100920 - samples/sec: 577.11 - lr: 0.010000\n",
            "2023-02-06 08:29:23,739 epoch 3 - iter 26/133 - loss 0.01100166 - samples/sec: 748.26 - lr: 0.010000\n",
            "2023-02-06 08:29:25,256 epoch 3 - iter 39/133 - loss 0.01099206 - samples/sec: 614.87 - lr: 0.010000\n",
            "2023-02-06 08:29:26,543 epoch 3 - iter 52/133 - loss 0.01096206 - samples/sec: 747.35 - lr: 0.010000\n",
            "2023-02-06 08:29:28,045 epoch 3 - iter 65/133 - loss 0.01093502 - samples/sec: 756.93 - lr: 0.010000\n",
            "2023-02-06 08:29:29,300 epoch 3 - iter 78/133 - loss 0.01092986 - samples/sec: 767.76 - lr: 0.010000\n",
            "2023-02-06 08:29:30,899 epoch 3 - iter 91/133 - loss 0.01094036 - samples/sec: 700.02 - lr: 0.010000\n",
            "2023-02-06 08:29:32,167 epoch 3 - iter 104/133 - loss 0.01093898 - samples/sec: 759.88 - lr: 0.010000\n",
            "2023-02-06 08:29:33,482 epoch 3 - iter 117/133 - loss 0.01092654 - samples/sec: 724.74 - lr: 0.010000\n",
            "2023-02-06 08:29:34,996 epoch 3 - iter 130/133 - loss 0.01091851 - samples/sec: 747.17 - lr: 0.010000\n",
            "2023-02-06 08:29:35,285 ----------------------------------------------------------------------------------------------------\n",
            "2023-02-06 08:29:35,288 EPOCH 3 done: loss 0.0109 - lr 0.010000\n"
          ]
        },
        {
          "metadata": {
            "tags": null
          },
          "name": "stderr",
          "output_type": "stream",
          "text": [
            "100%|██████████| 24/24 [00:02<00:00,  9.73it/s]"
          ]
        },
        {
          "metadata": {
            "tags": null
          },
          "name": "stdout",
          "output_type": "stream",
          "text": [
            "2023-02-06 08:29:37,771 Evaluating as a multi-label problem: False\n",
            "2023-02-06 08:29:37,787 DEV : loss 0.010945815593004227 - f1-score (micro avg)  0.5833\n"
          ]
        },
        {
          "metadata": {
            "tags": null
          },
          "name": "stderr",
          "output_type": "stream",
          "text": [
            "\n"
          ]
        },
        {
          "metadata": {
            "tags": null
          },
          "name": "stdout",
          "output_type": "stream",
          "text": [
            "2023-02-06 08:29:38,166 BAD EPOCHS (no improvement): 1\n",
            "2023-02-06 08:29:38,171 ----------------------------------------------------------------------------------------------------\n",
            "2023-02-06 08:29:39,771 epoch 4 - iter 13/133 - loss 0.01088269 - samples/sec: 703.41 - lr: 0.010000\n",
            "2023-02-06 08:29:41,093 epoch 4 - iter 26/133 - loss 0.01079631 - samples/sec: 727.27 - lr: 0.010000\n",
            "2023-02-06 08:29:42,388 epoch 4 - iter 39/133 - loss 0.01080397 - samples/sec: 731.61 - lr: 0.010000\n",
            "2023-02-06 08:29:43,901 epoch 4 - iter 52/133 - loss 0.01079299 - samples/sec: 748.17 - lr: 0.010000\n",
            "2023-02-06 08:29:45,173 epoch 4 - iter 65/133 - loss 0.01080453 - samples/sec: 756.93 - lr: 0.010000\n",
            "2023-02-06 08:29:46,704 epoch 4 - iter 78/133 - loss 0.01078781 - samples/sec: 742.45 - lr: 0.010000\n",
            "2023-02-06 08:29:48,004 epoch 4 - iter 91/133 - loss 0.01077505 - samples/sec: 739.13 - lr: 0.010000\n",
            "2023-02-06 08:29:49,566 epoch 4 - iter 104/133 - loss 0.01077253 - samples/sec: 719.85 - lr: 0.010000\n",
            "2023-02-06 08:29:50,799 epoch 4 - iter 117/133 - loss 0.01077099 - samples/sec: 782.87 - lr: 0.010000\n",
            "2023-02-06 08:29:52,309 epoch 4 - iter 130/133 - loss 0.01079835 - samples/sec: 751.86 - lr: 0.010000\n",
            "2023-02-06 08:29:52,598 ----------------------------------------------------------------------------------------------------\n",
            "2023-02-06 08:29:52,600 EPOCH 4 done: loss 0.0108 - lr 0.010000\n"
          ]
        },
        {
          "metadata": {
            "tags": null
          },
          "name": "stderr",
          "output_type": "stream",
          "text": [
            "100%|██████████| 24/24 [00:02<00:00, 10.99it/s]"
          ]
        },
        {
          "metadata": {
            "tags": null
          },
          "name": "stdout",
          "output_type": "stream",
          "text": [
            "2023-02-06 08:29:54,806 Evaluating as a multi-label problem: False\n",
            "2023-02-06 08:29:54,823 DEV : loss 0.010844088159501553 - f1-score (micro avg)  0.5867\n"
          ]
        },
        {
          "metadata": {
            "tags": null
          },
          "name": "stderr",
          "output_type": "stream",
          "text": [
            "\n"
          ]
        },
        {
          "metadata": {
            "tags": null
          },
          "name": "stdout",
          "output_type": "stream",
          "text": [
            "2023-02-06 08:29:55,416 BAD EPOCHS (no improvement): 0\n",
            "2023-02-06 08:29:55,422 saving best model\n",
            "2023-02-06 08:29:55,494 ----------------------------------------------------------------------------------------------------\n",
            "2023-02-06 08:29:56,823 epoch 5 - iter 13/133 - loss 0.01067723 - samples/sec: 718.01 - lr: 0.010000\n",
            "2023-02-06 08:29:58,344 epoch 5 - iter 26/133 - loss 0.01059902 - samples/sec: 743.92 - lr: 0.010000\n",
            "2023-02-06 08:29:59,632 epoch 5 - iter 39/133 - loss 0.01065991 - samples/sec: 752.37 - lr: 0.010000\n",
            "2023-02-06 08:30:01,148 epoch 5 - iter 52/133 - loss 0.01066396 - samples/sec: 742.67 - lr: 0.010000\n",
            "2023-02-06 08:30:02,462 epoch 5 - iter 65/133 - loss 0.01067246 - samples/sec: 721.77 - lr: 0.010000\n",
            "2023-02-06 08:30:03,991 epoch 5 - iter 78/133 - loss 0.01067908 - samples/sec: 764.43 - lr: 0.010000\n",
            "2023-02-06 08:30:05,279 epoch 5 - iter 91/133 - loss 0.01070105 - samples/sec: 746.56 - lr: 0.010000\n",
            "2023-02-06 08:30:06,504 epoch 5 - iter 104/133 - loss 0.01071328 - samples/sec: 788.19 - lr: 0.010000\n",
            "2023-02-06 08:30:07,981 epoch 5 - iter 117/133 - loss 0.01069141 - samples/sec: 768.06 - lr: 0.010000\n",
            "2023-02-06 08:30:09,278 epoch 5 - iter 130/133 - loss 0.01069258 - samples/sec: 736.98 - lr: 0.010000\n",
            "2023-02-06 08:30:09,584 ----------------------------------------------------------------------------------------------------\n",
            "2023-02-06 08:30:09,591 EPOCH 5 done: loss 0.0107 - lr 0.010000\n"
          ]
        },
        {
          "metadata": {
            "tags": null
          },
          "name": "stderr",
          "output_type": "stream",
          "text": [
            "100%|██████████| 24/24 [00:02<00:00,  9.72it/s]"
          ]
        },
        {
          "metadata": {
            "tags": null
          },
          "name": "stdout",
          "output_type": "stream",
          "text": [
            "2023-02-06 08:30:12,079 Evaluating as a multi-label problem: False\n",
            "2023-02-06 08:30:12,096 DEV : loss 0.010764073580503464 - f1-score (micro avg)  0.59\n"
          ]
        },
        {
          "metadata": {
            "tags": null
          },
          "name": "stderr",
          "output_type": "stream",
          "text": [
            "\n"
          ]
        },
        {
          "metadata": {
            "tags": null
          },
          "name": "stdout",
          "output_type": "stream",
          "text": [
            "2023-02-06 08:30:12,666 BAD EPOCHS (no improvement): 0\n",
            "2023-02-06 08:30:12,684 saving best model\n",
            "2023-02-06 08:30:12,758 ----------------------------------------------------------------------------------------------------\n",
            "2023-02-06 08:30:14,153 epoch 6 - iter 13/133 - loss 0.01071924 - samples/sec: 682.06 - lr: 0.010000\n",
            "2023-02-06 08:30:15,468 epoch 6 - iter 26/133 - loss 0.01071274 - samples/sec: 726.60 - lr: 0.010000\n",
            "2023-02-06 08:30:16,995 epoch 6 - iter 39/133 - loss 0.01072073 - samples/sec: 745.06 - lr: 0.010000\n",
            "2023-02-06 08:30:18,256 epoch 6 - iter 52/133 - loss 0.01069609 - samples/sec: 766.36 - lr: 0.010000\n",
            "2023-02-06 08:30:19,760 epoch 6 - iter 65/133 - loss 0.01067637 - samples/sec: 621.63 - lr: 0.010000\n",
            "2023-02-06 08:30:21,150 epoch 6 - iter 78/133 - loss 0.01069997 - samples/sec: 698.03 - lr: 0.010000\n",
            "2023-02-06 08:30:22,666 epoch 6 - iter 91/133 - loss 0.01067124 - samples/sec: 747.15 - lr: 0.010000\n",
            "2023-02-06 08:30:23,937 epoch 6 - iter 104/133 - loss 0.01065074 - samples/sec: 756.77 - lr: 0.010000\n",
            "2023-02-06 08:30:25,196 epoch 6 - iter 117/133 - loss 0.01065426 - samples/sec: 759.07 - lr: 0.010000\n",
            "2023-02-06 08:30:26,726 epoch 6 - iter 130/133 - loss 0.01065274 - samples/sec: 739.37 - lr: 0.010000\n",
            "2023-02-06 08:30:27,011 ----------------------------------------------------------------------------------------------------\n",
            "2023-02-06 08:30:27,016 EPOCH 6 done: loss 0.0107 - lr 0.010000\n"
          ]
        },
        {
          "metadata": {
            "tags": null
          },
          "name": "stderr",
          "output_type": "stream",
          "text": [
            "100%|██████████| 24/24 [00:02<00:00,  9.78it/s]"
          ]
        },
        {
          "metadata": {
            "tags": null
          },
          "name": "stdout",
          "output_type": "stream",
          "text": [
            "2023-02-06 08:30:29,488 Evaluating as a multi-label problem: False\n",
            "2023-02-06 08:30:29,504 DEV : loss 0.010709869675338268 - f1-score (micro avg)  0.5953\n"
          ]
        },
        {
          "metadata": {
            "tags": null
          },
          "name": "stderr",
          "output_type": "stream",
          "text": [
            "\n"
          ]
        },
        {
          "metadata": {
            "tags": null
          },
          "name": "stdout",
          "output_type": "stream",
          "text": [
            "2023-02-06 08:30:29,884 BAD EPOCHS (no improvement): 0\n",
            "2023-02-06 08:30:29,891 saving best model\n",
            "2023-02-06 08:30:29,962 ----------------------------------------------------------------------------------------------------\n",
            "2023-02-06 08:30:31,568 epoch 7 - iter 13/133 - loss 0.01074821 - samples/sec: 588.47 - lr: 0.010000\n",
            "2023-02-06 08:30:32,838 epoch 7 - iter 26/133 - loss 0.01067320 - samples/sec: 752.01 - lr: 0.010000\n",
            "2023-02-06 08:30:34,326 epoch 7 - iter 39/133 - loss 0.01067867 - samples/sec: 764.30 - lr: 0.010000\n",
            "2023-02-06 08:30:35,675 epoch 7 - iter 52/133 - loss 0.01066511 - samples/sec: 715.33 - lr: 0.010000\n",
            "2023-02-06 08:30:37,160 epoch 7 - iter 65/133 - loss 0.01066500 - samples/sec: 774.66 - lr: 0.010000\n",
            "2023-02-06 08:30:38,384 epoch 7 - iter 78/133 - loss 0.01064703 - samples/sec: 786.21 - lr: 0.010000\n",
            "2023-02-06 08:30:39,656 epoch 7 - iter 91/133 - loss 0.01064059 - samples/sec: 752.36 - lr: 0.010000\n",
            "2023-02-06 08:30:41,183 epoch 7 - iter 104/133 - loss 0.01064299 - samples/sec: 741.82 - lr: 0.010000\n",
            "2023-02-06 08:30:42,411 epoch 7 - iter 117/133 - loss 0.01063663 - samples/sec: 782.15 - lr: 0.010000\n",
            "2023-02-06 08:30:43,918 epoch 7 - iter 130/133 - loss 0.01062067 - samples/sec: 746.86 - lr: 0.010000\n",
            "2023-02-06 08:30:44,207 ----------------------------------------------------------------------------------------------------\n",
            "2023-02-06 08:30:44,212 EPOCH 7 done: loss 0.0106 - lr 0.010000\n"
          ]
        },
        {
          "metadata": {
            "tags": null
          },
          "name": "stderr",
          "output_type": "stream",
          "text": [
            "100%|██████████| 24/24 [00:02<00:00, 10.08it/s]"
          ]
        },
        {
          "metadata": {
            "tags": null
          },
          "name": "stdout",
          "output_type": "stream",
          "text": [
            "2023-02-06 08:30:46,609 Evaluating as a multi-label problem: False\n",
            "2023-02-06 08:30:46,625 DEV : loss 0.010663843713700771 - f1-score (micro avg)  0.604\n"
          ]
        },
        {
          "metadata": {
            "tags": null
          },
          "name": "stderr",
          "output_type": "stream",
          "text": [
            "\n"
          ]
        },
        {
          "metadata": {
            "tags": null
          },
          "name": "stdout",
          "output_type": "stream",
          "text": [
            "2023-02-06 08:30:46,984 BAD EPOCHS (no improvement): 0\n",
            "2023-02-06 08:30:46,991 saving best model\n",
            "2023-02-06 08:30:47,072 ----------------------------------------------------------------------------------------------------\n",
            "2023-02-06 08:30:48,638 epoch 8 - iter 13/133 - loss 0.01043837 - samples/sec: 601.87 - lr: 0.010000\n",
            "2023-02-06 08:30:49,893 epoch 8 - iter 26/133 - loss 0.01051882 - samples/sec: 760.45 - lr: 0.010000\n",
            "2023-02-06 08:30:51,166 epoch 8 - iter 39/133 - loss 0.01054135 - samples/sec: 761.95 - lr: 0.010000\n",
            "2023-02-06 08:30:52,624 epoch 8 - iter 52/133 - loss 0.01056330 - samples/sec: 784.40 - lr: 0.010000\n",
            "2023-02-06 08:30:53,864 epoch 8 - iter 65/133 - loss 0.01058674 - samples/sec: 788.25 - lr: 0.010000\n",
            "2023-02-06 08:30:55,348 epoch 8 - iter 78/133 - loss 0.01057453 - samples/sec: 632.25 - lr: 0.010000\n",
            "2023-02-06 08:30:56,643 epoch 8 - iter 91/133 - loss 0.01056818 - samples/sec: 743.01 - lr: 0.010000\n",
            "2023-02-06 08:30:58,165 epoch 8 - iter 104/133 - loss 0.01056378 - samples/sec: 754.99 - lr: 0.010000\n",
            "2023-02-06 08:30:59,473 epoch 8 - iter 117/133 - loss 0.01055726 - samples/sec: 740.74 - lr: 0.010000\n",
            "2023-02-06 08:31:00,790 epoch 8 - iter 130/133 - loss 0.01054234 - samples/sec: 730.40 - lr: 0.010000\n",
            "2023-02-06 08:31:01,299 ----------------------------------------------------------------------------------------------------\n",
            "2023-02-06 08:31:01,301 EPOCH 8 done: loss 0.0106 - lr 0.010000\n"
          ]
        },
        {
          "metadata": {
            "tags": null
          },
          "name": "stderr",
          "output_type": "stream",
          "text": [
            "100%|██████████| 24/24 [00:02<00:00, 10.74it/s]"
          ]
        },
        {
          "metadata": {
            "tags": null
          },
          "name": "stdout",
          "output_type": "stream",
          "text": [
            "2023-02-06 08:31:03,556 Evaluating as a multi-label problem: False\n",
            "2023-02-06 08:31:03,573 DEV : loss 0.010619796812534332 - f1-score (micro avg)  0.602\n"
          ]
        },
        {
          "metadata": {
            "tags": null
          },
          "name": "stderr",
          "output_type": "stream",
          "text": [
            "\n"
          ]
        },
        {
          "metadata": {
            "tags": null
          },
          "name": "stdout",
          "output_type": "stream",
          "text": [
            "2023-02-06 08:31:04,148 BAD EPOCHS (no improvement): 1\n",
            "2023-02-06 08:31:04,153 ----------------------------------------------------------------------------------------------------\n",
            "2023-02-06 08:31:05,493 epoch 9 - iter 13/133 - loss 0.01055787 - samples/sec: 714.38 - lr: 0.010000\n",
            "2023-02-06 08:31:06,991 epoch 9 - iter 26/133 - loss 0.01055880 - samples/sec: 756.84 - lr: 0.010000\n",
            "2023-02-06 08:31:08,220 epoch 9 - iter 39/133 - loss 0.01058857 - samples/sec: 784.11 - lr: 0.010000\n",
            "2023-02-06 08:31:09,733 epoch 9 - iter 52/133 - loss 0.01050204 - samples/sec: 743.77 - lr: 0.010000\n",
            "2023-02-06 08:31:11,006 epoch 9 - iter 65/133 - loss 0.01049462 - samples/sec: 757.49 - lr: 0.010000\n",
            "2023-02-06 08:31:12,320 epoch 9 - iter 78/133 - loss 0.01049927 - samples/sec: 726.38 - lr: 0.010000\n",
            "2023-02-06 08:31:13,836 epoch 9 - iter 91/133 - loss 0.01053675 - samples/sec: 753.53 - lr: 0.010000\n",
            "2023-02-06 08:31:15,093 epoch 9 - iter 104/133 - loss 0.01051643 - samples/sec: 763.35 - lr: 0.010000\n",
            "2023-02-06 08:31:16,571 epoch 9 - iter 117/133 - loss 0.01051333 - samples/sec: 770.43 - lr: 0.010000\n",
            "2023-02-06 08:31:17,840 epoch 9 - iter 130/133 - loss 0.01052863 - samples/sec: 764.73 - lr: 0.010000\n",
            "2023-02-06 08:31:18,111 ----------------------------------------------------------------------------------------------------\n",
            "2023-02-06 08:31:18,112 EPOCH 9 done: loss 0.0105 - lr 0.010000\n"
          ]
        },
        {
          "metadata": {
            "tags": null
          },
          "name": "stderr",
          "output_type": "stream",
          "text": [
            "100%|██████████| 24/24 [00:02<00:00, 10.08it/s]"
          ]
        },
        {
          "metadata": {
            "tags": null
          },
          "name": "stdout",
          "output_type": "stream",
          "text": [
            "2023-02-06 08:31:20,513 Evaluating as a multi-label problem: False\n",
            "2023-02-06 08:31:20,529 DEV : loss 0.010611701756715775 - f1-score (micro avg)  0.6127\n"
          ]
        },
        {
          "metadata": {
            "tags": null
          },
          "name": "stderr",
          "output_type": "stream",
          "text": [
            "\n"
          ]
        },
        {
          "metadata": {
            "tags": null
          },
          "name": "stdout",
          "output_type": "stream",
          "text": [
            "2023-02-06 08:31:21,099 BAD EPOCHS (no improvement): 0\n",
            "2023-02-06 08:31:21,105 saving best model\n",
            "2023-02-06 08:31:21,180 ----------------------------------------------------------------------------------------------------\n",
            "2023-02-06 08:31:22,488 epoch 10 - iter 13/133 - loss 0.01068018 - samples/sec: 735.19 - lr: 0.010000\n",
            "2023-02-06 08:31:23,814 epoch 10 - iter 26/133 - loss 0.01048881 - samples/sec: 719.40 - lr: 0.010000\n",
            "2023-02-06 08:31:25,348 epoch 10 - iter 39/133 - loss 0.01057341 - samples/sec: 607.48 - lr: 0.010000\n",
            "2023-02-06 08:31:26,612 epoch 10 - iter 52/133 - loss 0.01053287 - samples/sec: 762.66 - lr: 0.010000\n",
            "2023-02-06 08:31:28,080 epoch 10 - iter 65/133 - loss 0.01053009 - samples/sec: 780.80 - lr: 0.010000\n",
            "2023-02-06 08:31:29,348 epoch 10 - iter 78/133 - loss 0.01049424 - samples/sec: 765.03 - lr: 0.010000\n",
            "2023-02-06 08:31:30,907 epoch 10 - iter 91/133 - loss 0.01049714 - samples/sec: 602.01 - lr: 0.010000\n",
            "2023-02-06 08:31:32,299 epoch 10 - iter 104/133 - loss 0.01051002 - samples/sec: 688.23 - lr: 0.010000\n",
            "2023-02-06 08:31:33,585 epoch 10 - iter 117/133 - loss 0.01050991 - samples/sec: 751.61 - lr: 0.010000\n",
            "2023-02-06 08:31:35,136 epoch 10 - iter 130/133 - loss 0.01049037 - samples/sec: 721.95 - lr: 0.010000\n",
            "2023-02-06 08:31:35,429 ----------------------------------------------------------------------------------------------------\n",
            "2023-02-06 08:31:35,431 EPOCH 10 done: loss 0.0105 - lr 0.010000\n"
          ]
        },
        {
          "metadata": {
            "tags": null
          },
          "name": "stderr",
          "output_type": "stream",
          "text": [
            "100%|██████████| 24/24 [00:02<00:00,  9.82it/s]"
          ]
        },
        {
          "metadata": {
            "tags": null
          },
          "name": "stdout",
          "output_type": "stream",
          "text": [
            "2023-02-06 08:31:37,895 Evaluating as a multi-label problem: False\n",
            "2023-02-06 08:31:37,910 DEV : loss 0.010555021464824677 - f1-score (micro avg)  0.612\n"
          ]
        },
        {
          "metadata": {
            "tags": null
          },
          "name": "stderr",
          "output_type": "stream",
          "text": [
            "\n"
          ]
        },
        {
          "metadata": {
            "tags": null
          },
          "name": "stdout",
          "output_type": "stream",
          "text": [
            "2023-02-06 08:31:38,250 BAD EPOCHS (no improvement): 1\n",
            "2023-02-06 08:31:38,266 ----------------------------------------------------------------------------------------------------\n",
            "2023-02-06 08:31:39,815 epoch 11 - iter 13/133 - loss 0.01014661 - samples/sec: 717.23 - lr: 0.010000\n",
            "2023-02-06 08:31:41,095 epoch 11 - iter 26/133 - loss 0.01037157 - samples/sec: 747.91 - lr: 0.010000\n",
            "2023-02-06 08:31:42,350 epoch 11 - iter 39/133 - loss 0.01039031 - samples/sec: 771.90 - lr: 0.010000\n",
            "2023-02-06 08:31:43,850 epoch 11 - iter 52/133 - loss 0.01048393 - samples/sec: 763.72 - lr: 0.010000\n",
            "2023-02-06 08:31:45,153 epoch 11 - iter 65/133 - loss 0.01050528 - samples/sec: 737.89 - lr: 0.010000\n",
            "2023-02-06 08:31:46,661 epoch 11 - iter 78/133 - loss 0.01048936 - samples/sec: 752.50 - lr: 0.010000\n",
            "2023-02-06 08:31:47,936 epoch 11 - iter 91/133 - loss 0.01046032 - samples/sec: 756.43 - lr: 0.010000\n",
            "2023-02-06 08:31:49,443 epoch 11 - iter 104/133 - loss 0.01049842 - samples/sec: 750.46 - lr: 0.010000\n",
            "2023-02-06 08:31:50,667 epoch 11 - iter 117/133 - loss 0.01048207 - samples/sec: 788.09 - lr: 0.010000\n",
            "2023-02-06 08:31:51,915 epoch 11 - iter 130/133 - loss 0.01047867 - samples/sec: 764.34 - lr: 0.010000\n",
            "2023-02-06 08:31:52,443 ----------------------------------------------------------------------------------------------------\n",
            "2023-02-06 08:31:52,447 EPOCH 11 done: loss 0.0105 - lr 0.010000\n"
          ]
        },
        {
          "metadata": {
            "tags": null
          },
          "name": "stderr",
          "output_type": "stream",
          "text": [
            "100%|██████████| 24/24 [00:02<00:00, 11.03it/s]"
          ]
        },
        {
          "metadata": {
            "tags": null
          },
          "name": "stdout",
          "output_type": "stream",
          "text": [
            "2023-02-06 08:31:54,642 Evaluating as a multi-label problem: False\n",
            "2023-02-06 08:31:54,659 DEV : loss 0.010583124123513699 - f1-score (micro avg)  0.618\n"
          ]
        },
        {
          "metadata": {
            "tags": null
          },
          "name": "stderr",
          "output_type": "stream",
          "text": [
            "\n"
          ]
        },
        {
          "metadata": {
            "tags": null
          },
          "name": "stdout",
          "output_type": "stream",
          "text": [
            "2023-02-06 08:31:55,235 BAD EPOCHS (no improvement): 0\n",
            "2023-02-06 08:31:55,243 saving best model\n",
            "2023-02-06 08:31:55,324 ----------------------------------------------------------------------------------------------------\n",
            "2023-02-06 08:31:56,599 epoch 12 - iter 13/133 - loss 0.01034765 - samples/sec: 758.67 - lr: 0.010000\n",
            "2023-02-06 08:31:58,049 epoch 12 - iter 26/133 - loss 0.01038689 - samples/sec: 649.83 - lr: 0.010000\n",
            "2023-02-06 08:31:59,293 epoch 12 - iter 39/133 - loss 0.01041491 - samples/sec: 771.48 - lr: 0.010000\n",
            "2023-02-06 08:32:00,827 epoch 12 - iter 52/133 - loss 0.01039636 - samples/sec: 749.22 - lr: 0.010000\n",
            "2023-02-06 08:32:02,125 epoch 12 - iter 65/133 - loss 0.01039765 - samples/sec: 734.58 - lr: 0.010000\n",
            "2023-02-06 08:32:03,651 epoch 12 - iter 78/133 - loss 0.01037797 - samples/sec: 742.60 - lr: 0.010000\n",
            "2023-02-06 08:32:04,912 epoch 12 - iter 91/133 - loss 0.01037713 - samples/sec: 767.06 - lr: 0.010000\n",
            "2023-02-06 08:32:06,155 epoch 12 - iter 104/133 - loss 0.01039333 - samples/sec: 778.01 - lr: 0.010000\n",
            "2023-02-06 08:32:07,679 epoch 12 - iter 117/133 - loss 0.01039785 - samples/sec: 612.76 - lr: 0.010000\n",
            "2023-02-06 08:32:08,958 epoch 12 - iter 130/133 - loss 0.01041191 - samples/sec: 749.49 - lr: 0.010000\n",
            "2023-02-06 08:32:09,221 ----------------------------------------------------------------------------------------------------\n",
            "2023-02-06 08:32:09,225 EPOCH 12 done: loss 0.0104 - lr 0.010000\n"
          ]
        },
        {
          "output_type": "stream",
          "name": "stderr",
          "text": [
            "100%|██████████| 24/24 [00:02<00:00,  9.61it/s]"
          ]
        },
        {
          "output_type": "stream",
          "name": "stdout",
          "text": [
            "2023-02-06 08:32:11,743 Evaluating as a multi-label problem: False\n",
            "2023-02-06 08:32:11,761 DEV : loss 0.010490193963050842 - f1-score (micro avg)  0.6233\n"
          ]
        },
        {
          "output_type": "stream",
          "name": "stderr",
          "text": [
            "\n"
          ]
        },
        {
          "output_type": "stream",
          "name": "stdout",
          "text": [
            "2023-02-06 08:32:12,343 BAD EPOCHS (no improvement): 0\n",
            "2023-02-06 08:32:12,347 saving best model\n",
            "2023-02-06 08:32:12,425 ----------------------------------------------------------------------------------------------------\n",
            "2023-02-06 08:32:13,768 epoch 13 - iter 13/133 - loss 0.01044893 - samples/sec: 711.51 - lr: 0.010000\n",
            "2023-02-06 08:32:15,331 epoch 13 - iter 26/133 - loss 0.01037701 - samples/sec: 597.05 - lr: 0.010000\n",
            "2023-02-06 08:32:16,636 epoch 13 - iter 39/133 - loss 0.01041042 - samples/sec: 729.64 - lr: 0.010000\n",
            "2023-02-06 08:32:18,179 epoch 13 - iter 52/133 - loss 0.01039558 - samples/sec: 639.59 - lr: 0.010000\n",
            "2023-02-06 08:32:20,357 epoch 13 - iter 65/133 - loss 0.01036643 - samples/sec: 453.47 - lr: 0.010000\n",
            "2023-02-06 08:32:22,076 epoch 13 - iter 78/133 - loss 0.01034448 - samples/sec: 576.82 - lr: 0.010000\n",
            "2023-02-06 08:32:23,544 epoch 13 - iter 91/133 - loss 0.01037494 - samples/sec: 776.14 - lr: 0.010000\n",
            "2023-02-06 08:32:24,857 epoch 13 - iter 104/133 - loss 0.01038988 - samples/sec: 723.98 - lr: 0.010000\n",
            "2023-02-06 08:32:26,302 epoch 13 - iter 117/133 - loss 0.01037204 - samples/sec: 803.02 - lr: 0.010000\n",
            "2023-02-06 08:32:27,579 epoch 13 - iter 130/133 - loss 0.01037025 - samples/sec: 756.57 - lr: 0.010000\n",
            "2023-02-06 08:32:27,857 ----------------------------------------------------------------------------------------------------\n",
            "2023-02-06 08:32:27,858 EPOCH 13 done: loss 0.0104 - lr 0.010000\n"
          ]
        },
        {
          "output_type": "stream",
          "name": "stderr",
          "text": [
            "100%|██████████| 24/24 [00:02<00:00,  9.65it/s]"
          ]
        },
        {
          "output_type": "stream",
          "name": "stdout",
          "text": [
            "2023-02-06 08:32:30,369 Evaluating as a multi-label problem: False\n",
            "2023-02-06 08:32:30,385 DEV : loss 0.010483094491064548 - f1-score (micro avg)  0.6207\n"
          ]
        },
        {
          "output_type": "stream",
          "name": "stderr",
          "text": [
            "\n"
          ]
        },
        {
          "output_type": "stream",
          "name": "stdout",
          "text": [
            "2023-02-06 08:32:30,744 BAD EPOCHS (no improvement): 1\n",
            "2023-02-06 08:32:30,752 ----------------------------------------------------------------------------------------------------\n",
            "2023-02-06 08:32:32,325 epoch 14 - iter 13/133 - loss 0.01026158 - samples/sec: 717.41 - lr: 0.010000\n",
            "2023-02-06 08:32:33,586 epoch 14 - iter 26/133 - loss 0.01037027 - samples/sec: 762.17 - lr: 0.010000\n",
            "2023-02-06 08:32:35,070 epoch 14 - iter 39/133 - loss 0.01036379 - samples/sec: 774.03 - lr: 0.010000\n",
            "2023-02-06 08:32:36,383 epoch 14 - iter 52/133 - loss 0.01035813 - samples/sec: 729.67 - lr: 0.010000\n",
            "2023-02-06 08:32:37,889 epoch 14 - iter 65/133 - loss 0.01031572 - samples/sec: 748.65 - lr: 0.010000\n",
            "2023-02-06 08:32:39,182 epoch 14 - iter 78/133 - loss 0.01034433 - samples/sec: 743.14 - lr: 0.010000\n",
            "2023-02-06 08:32:40,475 epoch 14 - iter 91/133 - loss 0.01037816 - samples/sec: 742.25 - lr: 0.010000\n",
            "2023-02-06 08:32:41,954 epoch 14 - iter 104/133 - loss 0.01039795 - samples/sec: 782.25 - lr: 0.010000\n",
            "2023-02-06 08:32:43,225 epoch 14 - iter 117/133 - loss 0.01038837 - samples/sec: 761.71 - lr: 0.010000\n",
            "2023-02-06 08:32:44,737 epoch 14 - iter 130/133 - loss 0.01036175 - samples/sec: 745.28 - lr: 0.010000\n",
            "2023-02-06 08:32:45,035 ----------------------------------------------------------------------------------------------------\n",
            "2023-02-06 08:32:45,040 EPOCH 14 done: loss 0.0104 - lr 0.010000\n"
          ]
        },
        {
          "output_type": "stream",
          "name": "stderr",
          "text": [
            "100%|██████████| 24/24 [00:02<00:00,  9.80it/s]"
          ]
        },
        {
          "output_type": "stream",
          "name": "stdout",
          "text": [
            "2023-02-06 08:32:47,510 Evaluating as a multi-label problem: False\n",
            "2023-02-06 08:32:47,528 DEV : loss 0.010432829149067402 - f1-score (micro avg)  0.626\n"
          ]
        },
        {
          "output_type": "stream",
          "name": "stderr",
          "text": [
            "\n"
          ]
        },
        {
          "output_type": "stream",
          "name": "stdout",
          "text": [
            "2023-02-06 08:32:47,863 BAD EPOCHS (no improvement): 0\n",
            "2023-02-06 08:32:47,871 saving best model\n",
            "2023-02-06 08:32:47,944 ----------------------------------------------------------------------------------------------------\n",
            "2023-02-06 08:32:49,537 epoch 15 - iter 13/133 - loss 0.01019386 - samples/sec: 698.75 - lr: 0.010000\n",
            "2023-02-06 08:32:50,800 epoch 15 - iter 26/133 - loss 0.01019158 - samples/sec: 758.25 - lr: 0.010000\n",
            "2023-02-06 08:32:52,065 epoch 15 - iter 39/133 - loss 0.01015538 - samples/sec: 759.68 - lr: 0.010000\n",
            "2023-02-06 08:32:53,509 epoch 15 - iter 52/133 - loss 0.01023823 - samples/sec: 804.56 - lr: 0.010000\n",
            "2023-02-06 08:32:54,834 epoch 15 - iter 65/133 - loss 0.01026660 - samples/sec: 722.21 - lr: 0.010000\n",
            "2023-02-06 08:32:56,442 epoch 15 - iter 78/133 - loss 0.01025501 - samples/sec: 717.72 - lr: 0.010000\n",
            "2023-02-06 08:32:57,718 epoch 15 - iter 91/133 - loss 0.01024956 - samples/sec: 756.16 - lr: 0.010000\n",
            "2023-02-06 08:32:59,173 epoch 15 - iter 104/133 - loss 0.01028768 - samples/sec: 783.99 - lr: 0.010000\n",
            "2023-02-06 08:33:00,444 epoch 15 - iter 117/133 - loss 0.01027921 - samples/sec: 758.72 - lr: 0.010000\n",
            "2023-02-06 08:33:01,708 epoch 15 - iter 130/133 - loss 0.01030246 - samples/sec: 760.06 - lr: 0.010000\n",
            "2023-02-06 08:33:02,242 ----------------------------------------------------------------------------------------------------\n",
            "2023-02-06 08:33:02,248 EPOCH 15 done: loss 0.0103 - lr 0.010000\n"
          ]
        },
        {
          "output_type": "stream",
          "name": "stderr",
          "text": [
            "100%|██████████| 24/24 [00:02<00:00, 10.54it/s]"
          ]
        },
        {
          "output_type": "stream",
          "name": "stdout",
          "text": [
            "2023-02-06 08:33:04,549 Evaluating as a multi-label problem: False\n",
            "2023-02-06 08:33:04,568 DEV : loss 0.010397534817457199 - f1-score (micro avg)  0.6247\n"
          ]
        },
        {
          "output_type": "stream",
          "name": "stderr",
          "text": [
            "\n"
          ]
        },
        {
          "output_type": "stream",
          "name": "stdout",
          "text": [
            "2023-02-06 08:33:05,171 BAD EPOCHS (no improvement): 1\n",
            "2023-02-06 08:33:05,181 ----------------------------------------------------------------------------------------------------\n",
            "2023-02-06 08:33:06,547 epoch 16 - iter 13/133 - loss 0.01041342 - samples/sec: 696.13 - lr: 0.010000\n",
            "2023-02-06 08:33:08,089 epoch 16 - iter 26/133 - loss 0.01036971 - samples/sec: 726.77 - lr: 0.010000\n",
            "2023-02-06 08:33:09,375 epoch 16 - iter 39/133 - loss 0.01029897 - samples/sec: 745.27 - lr: 0.010000\n",
            "2023-02-06 08:33:10,662 epoch 16 - iter 52/133 - loss 0.01030162 - samples/sec: 746.88 - lr: 0.010000\n",
            "2023-02-06 08:33:12,125 epoch 16 - iter 65/133 - loss 0.01031824 - samples/sec: 780.89 - lr: 0.010000\n",
            "2023-02-06 08:33:13,387 epoch 16 - iter 78/133 - loss 0.01031728 - samples/sec: 754.65 - lr: 0.010000\n",
            "2023-02-06 08:33:14,895 epoch 16 - iter 91/133 - loss 0.01027123 - samples/sec: 757.20 - lr: 0.010000\n",
            "2023-02-06 08:33:16,162 epoch 16 - iter 104/133 - loss 0.01027054 - samples/sec: 764.32 - lr: 0.010000\n",
            "2023-02-06 08:33:17,639 epoch 16 - iter 117/133 - loss 0.01024219 - samples/sec: 633.84 - lr: 0.010000\n",
            "2023-02-06 08:33:18,899 epoch 16 - iter 130/133 - loss 0.01026610 - samples/sec: 758.90 - lr: 0.010000\n",
            "2023-02-06 08:33:19,184 ----------------------------------------------------------------------------------------------------\n",
            "2023-02-06 08:33:19,188 EPOCH 16 done: loss 0.0103 - lr 0.010000\n"
          ]
        },
        {
          "output_type": "stream",
          "name": "stderr",
          "text": [
            "100%|██████████| 24/24 [00:02<00:00,  9.90it/s]"
          ]
        },
        {
          "output_type": "stream",
          "name": "stdout",
          "text": [
            "2023-02-06 08:33:21,632 Evaluating as a multi-label problem: False\n",
            "2023-02-06 08:33:21,649 DEV : loss 0.010406638495624065 - f1-score (micro avg)  0.6253\n"
          ]
        },
        {
          "output_type": "stream",
          "name": "stderr",
          "text": [
            "\n"
          ]
        },
        {
          "output_type": "stream",
          "name": "stdout",
          "text": [
            "2023-02-06 08:33:22,222 BAD EPOCHS (no improvement): 2\n",
            "2023-02-06 08:33:22,234 ----------------------------------------------------------------------------------------------------\n",
            "2023-02-06 08:33:23,528 epoch 17 - iter 13/133 - loss 0.01033387 - samples/sec: 738.38 - lr: 0.010000\n",
            "2023-02-06 08:33:24,760 epoch 17 - iter 26/133 - loss 0.01031095 - samples/sec: 781.92 - lr: 0.010000\n",
            "2023-02-06 08:33:26,300 epoch 17 - iter 39/133 - loss 0.01028919 - samples/sec: 746.79 - lr: 0.010000\n",
            "2023-02-06 08:33:27,590 epoch 17 - iter 52/133 - loss 0.01030368 - samples/sec: 739.39 - lr: 0.010000\n",
            "2023-02-06 08:33:29,070 epoch 17 - iter 65/133 - loss 0.01029647 - samples/sec: 634.36 - lr: 0.010000\n",
            "2023-02-06 08:33:30,298 epoch 17 - iter 78/133 - loss 0.01029278 - samples/sec: 782.85 - lr: 0.010000\n",
            "2023-02-06 08:33:31,598 epoch 17 - iter 91/133 - loss 0.01028871 - samples/sec: 734.99 - lr: 0.010000\n",
            "2023-02-06 08:33:33,082 epoch 17 - iter 104/133 - loss 0.01029995 - samples/sec: 762.60 - lr: 0.010000\n",
            "2023-02-06 08:33:34,331 epoch 17 - iter 117/133 - loss 0.01028484 - samples/sec: 776.27 - lr: 0.010000\n",
            "2023-02-06 08:33:35,784 epoch 17 - iter 130/133 - loss 0.01027576 - samples/sec: 785.80 - lr: 0.010000\n",
            "2023-02-06 08:33:36,070 ----------------------------------------------------------------------------------------------------\n",
            "2023-02-06 08:33:36,071 EPOCH 17 done: loss 0.0103 - lr 0.010000\n"
          ]
        },
        {
          "output_type": "stream",
          "name": "stderr",
          "text": [
            "100%|██████████| 24/24 [00:02<00:00,  9.98it/s]"
          ]
        },
        {
          "output_type": "stream",
          "name": "stdout",
          "text": [
            "2023-02-06 08:33:38,498 Evaluating as a multi-label problem: False\n",
            "2023-02-06 08:33:38,515 DEV : loss 0.01034807600080967 - f1-score (micro avg)  0.63\n"
          ]
        },
        {
          "output_type": "stream",
          "name": "stderr",
          "text": [
            "\n"
          ]
        },
        {
          "output_type": "stream",
          "name": "stdout",
          "text": [
            "2023-02-06 08:33:38,856 BAD EPOCHS (no improvement): 0\n",
            "2023-02-06 08:33:38,862 saving best model\n",
            "2023-02-06 08:33:38,939 ----------------------------------------------------------------------------------------------------\n",
            "2023-02-06 08:33:40,462 epoch 18 - iter 13/133 - loss 0.01017348 - samples/sec: 740.64 - lr: 0.010000\n",
            "2023-02-06 08:33:41,723 epoch 18 - iter 26/133 - loss 0.01019914 - samples/sec: 764.13 - lr: 0.010000\n",
            "2023-02-06 08:33:43,017 epoch 18 - iter 39/133 - loss 0.01021330 - samples/sec: 737.55 - lr: 0.010000\n",
            "2023-02-06 08:33:44,471 epoch 18 - iter 52/133 - loss 0.01018504 - samples/sec: 782.18 - lr: 0.010000\n",
            "2023-02-06 08:33:45,771 epoch 18 - iter 65/133 - loss 0.01017944 - samples/sec: 740.07 - lr: 0.010000\n",
            "2023-02-06 08:33:47,306 epoch 18 - iter 78/133 - loss 0.01020170 - samples/sec: 734.11 - lr: 0.010000\n",
            "2023-02-06 08:33:48,590 epoch 18 - iter 91/133 - loss 0.01021375 - samples/sec: 743.50 - lr: 0.010000\n",
            "2023-02-06 08:33:50,106 epoch 18 - iter 104/133 - loss 0.01019670 - samples/sec: 745.19 - lr: 0.010000\n",
            "2023-02-06 08:33:51,371 epoch 18 - iter 117/133 - loss 0.01023334 - samples/sec: 762.98 - lr: 0.010000\n",
            "2023-02-06 08:33:52,871 epoch 18 - iter 130/133 - loss 0.01022335 - samples/sec: 764.73 - lr: 0.010000\n",
            "2023-02-06 08:33:53,154 ----------------------------------------------------------------------------------------------------\n",
            "2023-02-06 08:33:53,156 EPOCH 18 done: loss 0.0102 - lr 0.010000\n"
          ]
        },
        {
          "output_type": "stream",
          "name": "stderr",
          "text": [
            "100%|██████████| 24/24 [00:02<00:00,  9.88it/s]"
          ]
        },
        {
          "output_type": "stream",
          "name": "stdout",
          "text": [
            "2023-02-06 08:33:55,611 Evaluating as a multi-label problem: False\n",
            "2023-02-06 08:33:55,629 DEV : loss 0.010320308618247509 - f1-score (micro avg)  0.6313\n"
          ]
        },
        {
          "output_type": "stream",
          "name": "stderr",
          "text": [
            "\n"
          ]
        },
        {
          "output_type": "stream",
          "name": "stdout",
          "text": [
            "2023-02-06 08:33:55,977 BAD EPOCHS (no improvement): 0\n",
            "2023-02-06 08:33:55,987 saving best model\n",
            "2023-02-06 08:33:56,065 ----------------------------------------------------------------------------------------------------\n",
            "2023-02-06 08:33:57,370 epoch 19 - iter 13/133 - loss 0.01029091 - samples/sec: 738.06 - lr: 0.010000\n",
            "2023-02-06 08:33:58,890 epoch 19 - iter 26/133 - loss 0.01023014 - samples/sec: 750.92 - lr: 0.010000\n",
            "2023-02-06 08:34:00,150 epoch 19 - iter 39/133 - loss 0.01020864 - samples/sec: 762.09 - lr: 0.010000\n",
            "2023-02-06 08:34:01,681 epoch 19 - iter 52/133 - loss 0.01024439 - samples/sec: 741.73 - lr: 0.010000\n",
            "2023-02-06 08:34:02,906 epoch 19 - iter 65/133 - loss 0.01023181 - samples/sec: 790.97 - lr: 0.010000\n",
            "2023-02-06 08:34:04,433 epoch 19 - iter 78/133 - loss 0.01022412 - samples/sec: 613.31 - lr: 0.010000\n",
            "2023-02-06 08:34:05,780 epoch 19 - iter 91/133 - loss 0.01019693 - samples/sec: 712.09 - lr: 0.010000\n",
            "2023-02-06 08:34:07,187 epoch 19 - iter 104/133 - loss 0.01022081 - samples/sec: 673.66 - lr: 0.010000\n",
            "2023-02-06 08:34:08,668 epoch 19 - iter 117/133 - loss 0.01022890 - samples/sec: 785.83 - lr: 0.010000\n",
            "2023-02-06 08:34:09,910 epoch 19 - iter 130/133 - loss 0.01020723 - samples/sec: 777.53 - lr: 0.010000\n",
            "2023-02-06 08:34:10,200 ----------------------------------------------------------------------------------------------------\n",
            "2023-02-06 08:34:10,207 EPOCH 19 done: loss 0.0102 - lr 0.010000\n"
          ]
        },
        {
          "output_type": "stream",
          "name": "stderr",
          "text": [
            "100%|██████████| 24/24 [00:02<00:00,  9.80it/s]"
          ]
        },
        {
          "output_type": "stream",
          "name": "stdout",
          "text": [
            "2023-02-06 08:34:12,679 Evaluating as a multi-label problem: False\n",
            "2023-02-06 08:34:12,700 DEV : loss 0.010296817868947983 - f1-score (micro avg)  0.64\n"
          ]
        },
        {
          "output_type": "stream",
          "name": "stderr",
          "text": [
            "\n"
          ]
        },
        {
          "output_type": "stream",
          "name": "stdout",
          "text": [
            "2023-02-06 08:34:13,311 BAD EPOCHS (no improvement): 0\n",
            "2023-02-06 08:34:13,316 saving best model\n",
            "2023-02-06 08:34:13,390 ----------------------------------------------------------------------------------------------------\n",
            "2023-02-06 08:34:14,758 epoch 20 - iter 13/133 - loss 0.01021864 - samples/sec: 703.40 - lr: 0.010000\n",
            "2023-02-06 08:34:16,077 epoch 20 - iter 26/133 - loss 0.01028711 - samples/sec: 725.84 - lr: 0.010000\n",
            "2023-02-06 08:34:17,634 epoch 20 - iter 39/133 - loss 0.01022971 - samples/sec: 745.04 - lr: 0.010000\n",
            "2023-02-06 08:34:18,921 epoch 20 - iter 52/133 - loss 0.01026002 - samples/sec: 750.90 - lr: 0.010000\n",
            "2023-02-06 08:34:20,467 epoch 20 - iter 65/133 - loss 0.01026057 - samples/sec: 602.55 - lr: 0.010000\n",
            "2023-02-06 08:34:21,753 epoch 20 - iter 78/133 - loss 0.01026928 - samples/sec: 751.33 - lr: 0.010000\n",
            "2023-02-06 08:34:23,292 epoch 20 - iter 91/133 - loss 0.01025076 - samples/sec: 736.16 - lr: 0.010000\n",
            "2023-02-06 08:34:24,579 epoch 20 - iter 104/133 - loss 0.01020640 - samples/sec: 746.82 - lr: 0.010000\n",
            "2023-02-06 08:34:25,909 epoch 20 - iter 117/133 - loss 0.01019171 - samples/sec: 719.60 - lr: 0.010000\n",
            "2023-02-06 08:34:27,438 epoch 20 - iter 130/133 - loss 0.01017225 - samples/sec: 738.30 - lr: 0.010000\n",
            "2023-02-06 08:34:27,739 ----------------------------------------------------------------------------------------------------\n",
            "2023-02-06 08:34:27,744 EPOCH 20 done: loss 0.0102 - lr 0.010000\n"
          ]
        },
        {
          "output_type": "stream",
          "name": "stderr",
          "text": [
            "100%|██████████| 24/24 [00:02<00:00,  9.63it/s]"
          ]
        },
        {
          "output_type": "stream",
          "name": "stdout",
          "text": [
            "2023-02-06 08:34:30,257 Evaluating as a multi-label problem: False\n",
            "2023-02-06 08:34:30,274 DEV : loss 0.010265583172440529 - f1-score (micro avg)  0.6413\n"
          ]
        },
        {
          "output_type": "stream",
          "name": "stderr",
          "text": [
            "\n"
          ]
        },
        {
          "output_type": "stream",
          "name": "stdout",
          "text": [
            "2023-02-06 08:34:30,654 BAD EPOCHS (no improvement): 0\n",
            "2023-02-06 08:34:30,660 saving best model\n",
            "2023-02-06 08:34:30,739 ----------------------------------------------------------------------------------------------------\n",
            "2023-02-06 08:34:32,330 epoch 21 - iter 13/133 - loss 0.01014521 - samples/sec: 710.15 - lr: 0.010000\n",
            "2023-02-06 08:34:33,625 epoch 21 - iter 26/133 - loss 0.01018544 - samples/sec: 743.43 - lr: 0.010000\n",
            "2023-02-06 08:34:35,128 epoch 21 - iter 39/133 - loss 0.01014949 - samples/sec: 755.29 - lr: 0.010000\n",
            "2023-02-06 08:34:36,388 epoch 21 - iter 52/133 - loss 0.01015701 - samples/sec: 758.49 - lr: 0.010000\n",
            "2023-02-06 08:34:37,625 epoch 21 - iter 65/133 - loss 0.01014343 - samples/sec: 781.03 - lr: 0.010000\n",
            "2023-02-06 08:34:39,127 epoch 21 - iter 78/133 - loss 0.01011384 - samples/sec: 758.01 - lr: 0.010000\n",
            "2023-02-06 08:34:40,496 epoch 21 - iter 91/133 - loss 0.01012422 - samples/sec: 690.35 - lr: 0.010000\n",
            "2023-02-06 08:34:42,023 epoch 21 - iter 104/133 - loss 0.01014283 - samples/sec: 761.00 - lr: 0.010000\n",
            "2023-02-06 08:34:43,304 epoch 21 - iter 117/133 - loss 0.01013442 - samples/sec: 748.07 - lr: 0.010000\n",
            "2023-02-06 08:34:44,869 epoch 21 - iter 130/133 - loss 0.01012862 - samples/sec: 730.48 - lr: 0.010000\n",
            "2023-02-06 08:34:45,169 ----------------------------------------------------------------------------------------------------\n",
            "2023-02-06 08:34:45,175 EPOCH 21 done: loss 0.0101 - lr 0.010000\n"
          ]
        },
        {
          "output_type": "stream",
          "name": "stderr",
          "text": [
            "100%|██████████| 24/24 [00:02<00:00,  9.51it/s]"
          ]
        },
        {
          "output_type": "stream",
          "name": "stdout",
          "text": [
            "2023-02-06 08:34:47,720 Evaluating as a multi-label problem: False\n",
            "2023-02-06 08:34:47,743 DEV : loss 0.010291438549757004 - f1-score (micro avg)  0.6373\n"
          ]
        },
        {
          "output_type": "stream",
          "name": "stderr",
          "text": [
            "\n"
          ]
        },
        {
          "output_type": "stream",
          "name": "stdout",
          "text": [
            "2023-02-06 08:34:48,104 BAD EPOCHS (no improvement): 1\n",
            "2023-02-06 08:34:48,124 ----------------------------------------------------------------------------------------------------\n",
            "2023-02-06 08:34:49,559 epoch 22 - iter 13/133 - loss 0.00996709 - samples/sec: 657.64 - lr: 0.010000\n",
            "2023-02-06 08:34:51,095 epoch 22 - iter 26/133 - loss 0.01001206 - samples/sec: 739.55 - lr: 0.010000\n",
            "2023-02-06 08:34:52,347 epoch 22 - iter 39/133 - loss 0.01004049 - samples/sec: 767.48 - lr: 0.010000\n",
            "2023-02-06 08:34:53,920 epoch 22 - iter 52/133 - loss 0.01005317 - samples/sec: 722.99 - lr: 0.010000\n",
            "2023-02-06 08:34:55,196 epoch 22 - iter 65/133 - loss 0.01010477 - samples/sec: 747.76 - lr: 0.010000\n",
            "2023-02-06 08:34:56,737 epoch 22 - iter 78/133 - loss 0.01010079 - samples/sec: 608.24 - lr: 0.010000\n",
            "2023-02-06 08:34:58,059 epoch 22 - iter 91/133 - loss 0.01013500 - samples/sec: 727.48 - lr: 0.010000\n",
            "2023-02-06 08:34:59,404 epoch 22 - iter 104/133 - loss 0.01013831 - samples/sec: 712.32 - lr: 0.010000\n",
            "2023-02-06 08:35:00,950 epoch 22 - iter 117/133 - loss 0.01014236 - samples/sec: 741.47 - lr: 0.010000\n",
            "2023-02-06 08:35:02,201 epoch 22 - iter 130/133 - loss 0.01013044 - samples/sec: 762.45 - lr: 0.010000\n",
            "2023-02-06 08:35:02,483 ----------------------------------------------------------------------------------------------------\n",
            "2023-02-06 08:35:02,485 EPOCH 22 done: loss 0.0101 - lr 0.010000\n"
          ]
        },
        {
          "output_type": "stream",
          "name": "stderr",
          "text": [
            "100%|██████████| 24/24 [00:02<00:00,  9.91it/s]"
          ]
        },
        {
          "output_type": "stream",
          "name": "stdout",
          "text": [
            "2023-02-06 08:35:04,928 Evaluating as a multi-label problem: False\n",
            "2023-02-06 08:35:04,944 DEV : loss 0.010224188677966595 - f1-score (micro avg)  0.6413\n"
          ]
        },
        {
          "output_type": "stream",
          "name": "stderr",
          "text": [
            "\n"
          ]
        },
        {
          "output_type": "stream",
          "name": "stdout",
          "text": [
            "2023-02-06 08:35:05,519 BAD EPOCHS (no improvement): 0\n",
            "2023-02-06 08:35:05,528 ----------------------------------------------------------------------------------------------------\n",
            "2023-02-06 08:35:06,856 epoch 23 - iter 13/133 - loss 0.01005563 - samples/sec: 720.28 - lr: 0.010000\n",
            "2023-02-06 08:35:08,375 epoch 23 - iter 26/133 - loss 0.01002448 - samples/sec: 616.23 - lr: 0.010000\n",
            "2023-02-06 08:35:09,661 epoch 23 - iter 39/133 - loss 0.01015809 - samples/sec: 739.97 - lr: 0.010000\n",
            "2023-02-06 08:35:10,916 epoch 23 - iter 52/133 - loss 0.01016788 - samples/sec: 764.29 - lr: 0.010000\n",
            "2023-02-06 08:35:12,458 epoch 23 - iter 65/133 - loss 0.01009484 - samples/sec: 739.26 - lr: 0.010000\n",
            "2023-02-06 08:35:13,705 epoch 23 - iter 78/133 - loss 0.01008399 - samples/sec: 770.62 - lr: 0.010000\n",
            "2023-02-06 08:35:15,187 epoch 23 - iter 91/133 - loss 0.01007382 - samples/sec: 769.82 - lr: 0.010000\n",
            "2023-02-06 08:35:16,466 epoch 23 - iter 104/133 - loss 0.01006859 - samples/sec: 747.87 - lr: 0.010000\n",
            "2023-02-06 08:35:18,033 epoch 23 - iter 117/133 - loss 0.01007952 - samples/sec: 718.89 - lr: 0.010000\n",
            "2023-02-06 08:35:19,305 epoch 23 - iter 130/133 - loss 0.01007932 - samples/sec: 752.56 - lr: 0.010000\n",
            "2023-02-06 08:35:19,591 ----------------------------------------------------------------------------------------------------\n",
            "2023-02-06 08:35:19,593 EPOCH 23 done: loss 0.0101 - lr 0.010000\n"
          ]
        },
        {
          "output_type": "stream",
          "name": "stderr",
          "text": [
            "100%|██████████| 24/24 [00:02<00:00,  9.66it/s]"
          ]
        },
        {
          "output_type": "stream",
          "name": "stdout",
          "text": [
            "2023-02-06 08:35:22,099 Evaluating as a multi-label problem: False\n",
            "2023-02-06 08:35:22,116 DEV : loss 0.010190014727413654 - f1-score (micro avg)  0.644\n"
          ]
        },
        {
          "output_type": "stream",
          "name": "stderr",
          "text": [
            "\n"
          ]
        },
        {
          "output_type": "stream",
          "name": "stdout",
          "text": [
            "2023-02-06 08:35:22,476 BAD EPOCHS (no improvement): 0\n",
            "2023-02-06 08:35:22,484 saving best model\n",
            "2023-02-06 08:35:22,562 ----------------------------------------------------------------------------------------------------\n",
            "2023-02-06 08:35:24,159 epoch 24 - iter 13/133 - loss 0.01033764 - samples/sec: 707.79 - lr: 0.010000\n",
            "2023-02-06 08:35:25,436 epoch 24 - iter 26/133 - loss 0.01039924 - samples/sec: 753.06 - lr: 0.010000\n",
            "2023-02-06 08:35:26,953 epoch 24 - iter 39/133 - loss 0.01019226 - samples/sec: 761.33 - lr: 0.010000\n",
            "2023-02-06 08:35:28,217 epoch 24 - iter 52/133 - loss 0.01010421 - samples/sec: 759.92 - lr: 0.010000\n",
            "2023-02-06 08:35:29,503 epoch 24 - iter 65/133 - loss 0.01008049 - samples/sec: 751.64 - lr: 0.010000\n",
            "2023-02-06 08:35:31,044 epoch 24 - iter 78/133 - loss 0.01005312 - samples/sec: 735.12 - lr: 0.010000\n",
            "2023-02-06 08:35:32,319 epoch 24 - iter 91/133 - loss 0.01005299 - samples/sec: 759.51 - lr: 0.010000\n",
            "2023-02-06 08:35:33,822 epoch 24 - iter 104/133 - loss 0.01003790 - samples/sec: 760.19 - lr: 0.010000\n",
            "2023-02-06 08:35:35,097 epoch 24 - iter 117/133 - loss 0.01003322 - samples/sec: 752.83 - lr: 0.010000\n",
            "2023-02-06 08:35:36,616 epoch 24 - iter 130/133 - loss 0.01004728 - samples/sec: 748.80 - lr: 0.010000\n",
            "2023-02-06 08:35:36,902 ----------------------------------------------------------------------------------------------------\n",
            "2023-02-06 08:35:36,903 EPOCH 24 done: loss 0.0101 - lr 0.010000\n"
          ]
        },
        {
          "output_type": "stream",
          "name": "stderr",
          "text": [
            "100%|██████████| 24/24 [00:02<00:00,  9.88it/s]"
          ]
        },
        {
          "output_type": "stream",
          "name": "stdout",
          "text": [
            "2023-02-06 08:35:39,354 Evaluating as a multi-label problem: False\n",
            "2023-02-06 08:35:39,371 DEV : loss 0.010158772580325603 - f1-score (micro avg)  0.6487\n"
          ]
        },
        {
          "output_type": "stream",
          "name": "stderr",
          "text": [
            "\n"
          ]
        },
        {
          "output_type": "stream",
          "name": "stdout",
          "text": [
            "2023-02-06 08:35:39,720 BAD EPOCHS (no improvement): 0\n",
            "2023-02-06 08:35:39,727 saving best model\n",
            "2023-02-06 08:35:39,802 ----------------------------------------------------------------------------------------------------\n",
            "2023-02-06 08:35:41,120 epoch 25 - iter 13/133 - loss 0.00981064 - samples/sec: 733.84 - lr: 0.010000\n",
            "2023-02-06 08:35:42,650 epoch 25 - iter 26/133 - loss 0.00984903 - samples/sec: 745.83 - lr: 0.010000\n",
            "2023-02-06 08:35:43,929 epoch 25 - iter 39/133 - loss 0.00991121 - samples/sec: 755.02 - lr: 0.010000\n",
            "2023-02-06 08:35:45,467 epoch 25 - iter 52/133 - loss 0.01000175 - samples/sec: 740.89 - lr: 0.010000\n",
            "2023-02-06 08:35:46,750 epoch 25 - iter 65/133 - loss 0.01000978 - samples/sec: 746.54 - lr: 0.010000\n",
            "2023-02-06 08:35:48,252 epoch 25 - iter 78/133 - loss 0.01001222 - samples/sec: 770.84 - lr: 0.010000\n",
            "2023-02-06 08:35:49,515 epoch 25 - iter 91/133 - loss 0.01000999 - samples/sec: 759.97 - lr: 0.010000\n",
            "2023-02-06 08:35:51,036 epoch 25 - iter 104/133 - loss 0.00999015 - samples/sec: 616.30 - lr: 0.010000\n",
            "2023-02-06 08:35:52,290 epoch 25 - iter 117/133 - loss 0.00998576 - samples/sec: 770.57 - lr: 0.010000\n",
            "2023-02-06 08:35:53,576 epoch 25 - iter 130/133 - loss 0.00998035 - samples/sec: 745.63 - lr: 0.010000\n",
            "2023-02-06 08:35:54,094 ----------------------------------------------------------------------------------------------------\n",
            "2023-02-06 08:35:54,096 EPOCH 25 done: loss 0.0100 - lr 0.010000\n"
          ]
        },
        {
          "output_type": "stream",
          "name": "stderr",
          "text": [
            "100%|██████████| 24/24 [00:02<00:00, 11.09it/s]"
          ]
        },
        {
          "output_type": "stream",
          "name": "stdout",
          "text": [
            "2023-02-06 08:35:56,283 Evaluating as a multi-label problem: False\n",
            "2023-02-06 08:35:56,301 DEV : loss 0.010137598030269146 - f1-score (micro avg)  0.6507\n"
          ]
        },
        {
          "output_type": "stream",
          "name": "stderr",
          "text": [
            "\n"
          ]
        },
        {
          "output_type": "stream",
          "name": "stdout",
          "text": [
            "2023-02-06 08:35:56,866 BAD EPOCHS (no improvement): 0\n",
            "2023-02-06 08:35:56,874 saving best model\n",
            "2023-02-06 08:35:56,952 ----------------------------------------------------------------------------------------------------\n",
            "2023-02-06 08:35:58,254 epoch 26 - iter 13/133 - loss 0.00981231 - samples/sec: 744.59 - lr: 0.010000\n",
            "2023-02-06 08:35:59,716 epoch 26 - iter 26/133 - loss 0.00985499 - samples/sec: 779.93 - lr: 0.010000\n",
            "2023-02-06 08:36:00,934 epoch 26 - iter 39/133 - loss 0.00986997 - samples/sec: 794.56 - lr: 0.010000\n",
            "2023-02-06 08:36:02,450 epoch 26 - iter 52/133 - loss 0.00985057 - samples/sec: 750.90 - lr: 0.010000\n",
            "2023-02-06 08:36:03,705 epoch 26 - iter 65/133 - loss 0.00991802 - samples/sec: 770.23 - lr: 0.010000\n",
            "2023-02-06 08:36:04,983 epoch 26 - iter 78/133 - loss 0.00995249 - samples/sec: 752.52 - lr: 0.010000\n",
            "2023-02-06 08:36:06,610 epoch 26 - iter 91/133 - loss 0.00994670 - samples/sec: 695.85 - lr: 0.010000\n",
            "2023-02-06 08:36:07,854 epoch 26 - iter 104/133 - loss 0.00992897 - samples/sec: 766.60 - lr: 0.010000\n",
            "2023-02-06 08:36:09,332 epoch 26 - iter 117/133 - loss 0.00995839 - samples/sec: 771.15 - lr: 0.010000\n",
            "2023-02-06 08:36:10,585 epoch 26 - iter 130/133 - loss 0.00997863 - samples/sec: 763.77 - lr: 0.010000\n",
            "2023-02-06 08:36:10,866 ----------------------------------------------------------------------------------------------------\n",
            "2023-02-06 08:36:10,871 EPOCH 26 done: loss 0.0100 - lr 0.010000\n"
          ]
        },
        {
          "output_type": "stream",
          "name": "stderr",
          "text": [
            "100%|██████████| 24/24 [00:02<00:00, 10.09it/s]"
          ]
        },
        {
          "output_type": "stream",
          "name": "stdout",
          "text": [
            "2023-02-06 08:36:13,272 Evaluating as a multi-label problem: False\n",
            "2023-02-06 08:36:13,289 DEV : loss 0.010154918767511845 - f1-score (micro avg)  0.6453\n"
          ]
        },
        {
          "output_type": "stream",
          "name": "stderr",
          "text": [
            "\n"
          ]
        },
        {
          "output_type": "stream",
          "name": "stdout",
          "text": [
            "2023-02-06 08:36:13,875 BAD EPOCHS (no improvement): 1\n",
            "2023-02-06 08:36:13,882 ----------------------------------------------------------------------------------------------------\n",
            "2023-02-06 08:36:15,140 epoch 27 - iter 13/133 - loss 0.00982359 - samples/sec: 758.36 - lr: 0.010000\n",
            "2023-02-06 08:36:16,393 epoch 27 - iter 26/133 - loss 0.00995263 - samples/sec: 765.88 - lr: 0.010000\n",
            "2023-02-06 08:36:17,990 epoch 27 - iter 39/133 - loss 0.00994264 - samples/sec: 724.70 - lr: 0.010000\n",
            "2023-02-06 08:36:19,734 epoch 27 - iter 52/133 - loss 0.00990056 - samples/sec: 584.51 - lr: 0.010000\n",
            "2023-02-06 08:36:21,871 epoch 27 - iter 65/133 - loss 0.00989842 - samples/sec: 547.01 - lr: 0.010000\n",
            "2023-02-06 08:36:23,233 epoch 27 - iter 78/133 - loss 0.00990904 - samples/sec: 698.41 - lr: 0.010000\n",
            "2023-02-06 08:36:24,750 epoch 27 - iter 91/133 - loss 0.00997472 - samples/sec: 741.54 - lr: 0.010000\n",
            "2023-02-06 08:36:25,989 epoch 27 - iter 104/133 - loss 0.00996257 - samples/sec: 774.43 - lr: 0.010000\n",
            "2023-02-06 08:36:27,217 epoch 27 - iter 117/133 - loss 0.00995437 - samples/sec: 781.46 - lr: 0.010000\n",
            "2023-02-06 08:36:28,665 epoch 27 - iter 130/133 - loss 0.00995591 - samples/sec: 787.10 - lr: 0.010000\n",
            "2023-02-06 08:36:28,936 ----------------------------------------------------------------------------------------------------\n",
            "2023-02-06 08:36:28,941 EPOCH 27 done: loss 0.0100 - lr 0.010000\n"
          ]
        },
        {
          "output_type": "stream",
          "name": "stderr",
          "text": [
            "100%|██████████| 24/24 [00:02<00:00, 10.11it/s]"
          ]
        },
        {
          "output_type": "stream",
          "name": "stdout",
          "text": [
            "2023-02-06 08:36:31,339 Evaluating as a multi-label problem: False\n",
            "2023-02-06 08:36:31,357 DEV : loss 0.010085121728479862 - f1-score (micro avg)  0.6567\n"
          ]
        },
        {
          "output_type": "stream",
          "name": "stderr",
          "text": [
            "\n"
          ]
        },
        {
          "output_type": "stream",
          "name": "stdout",
          "text": [
            "2023-02-06 08:36:31,722 BAD EPOCHS (no improvement): 0\n",
            "2023-02-06 08:36:31,732 saving best model\n",
            "2023-02-06 08:36:31,827 ----------------------------------------------------------------------------------------------------\n",
            "2023-02-06 08:36:33,404 epoch 28 - iter 13/133 - loss 0.01020064 - samples/sec: 708.07 - lr: 0.010000\n",
            "2023-02-06 08:36:34,623 epoch 28 - iter 26/133 - loss 0.01013967 - samples/sec: 786.34 - lr: 0.010000\n",
            "2023-02-06 08:36:36,131 epoch 28 - iter 39/133 - loss 0.01003563 - samples/sec: 758.40 - lr: 0.010000\n",
            "2023-02-06 08:36:37,442 epoch 28 - iter 52/133 - loss 0.00998388 - samples/sec: 730.28 - lr: 0.010000\n",
            "2023-02-06 08:36:38,722 epoch 28 - iter 65/133 - loss 0.00999888 - samples/sec: 748.06 - lr: 0.010000\n",
            "2023-02-06 08:36:40,168 epoch 28 - iter 78/133 - loss 0.01003122 - samples/sec: 786.57 - lr: 0.010000\n",
            "2023-02-06 08:36:41,456 epoch 28 - iter 91/133 - loss 0.01000777 - samples/sec: 744.48 - lr: 0.010000\n",
            "2023-02-06 08:36:42,925 epoch 28 - iter 104/133 - loss 0.00998209 - samples/sec: 783.40 - lr: 0.010000\n",
            "2023-02-06 08:36:44,160 epoch 28 - iter 117/133 - loss 0.00999413 - samples/sec: 777.17 - lr: 0.010000\n",
            "2023-02-06 08:36:45,652 epoch 28 - iter 130/133 - loss 0.00996400 - samples/sec: 627.73 - lr: 0.010000\n",
            "2023-02-06 08:36:45,936 ----------------------------------------------------------------------------------------------------\n",
            "2023-02-06 08:36:45,937 EPOCH 28 done: loss 0.0100 - lr 0.010000\n"
          ]
        },
        {
          "output_type": "stream",
          "name": "stderr",
          "text": [
            "100%|██████████| 24/24 [00:02<00:00,  9.98it/s]"
          ]
        },
        {
          "output_type": "stream",
          "name": "stdout",
          "text": [
            "2023-02-06 08:36:48,370 Evaluating as a multi-label problem: False\n",
            "2023-02-06 08:36:48,390 DEV : loss 0.010063917376101017 - f1-score (micro avg)  0.6567\n"
          ]
        },
        {
          "output_type": "stream",
          "name": "stderr",
          "text": [
            "\n"
          ]
        },
        {
          "output_type": "stream",
          "name": "stdout",
          "text": [
            "2023-02-06 08:36:48,774 BAD EPOCHS (no improvement): 0\n",
            "2023-02-06 08:36:48,783 ----------------------------------------------------------------------------------------------------\n",
            "2023-02-06 08:36:50,112 epoch 29 - iter 13/133 - loss 0.01007614 - samples/sec: 715.39 - lr: 0.010000\n",
            "2023-02-06 08:36:51,579 epoch 29 - iter 26/133 - loss 0.00997458 - samples/sec: 766.42 - lr: 0.010000\n",
            "2023-02-06 08:36:52,814 epoch 29 - iter 39/133 - loss 0.00989408 - samples/sec: 781.38 - lr: 0.010000\n",
            "2023-02-06 08:36:54,264 epoch 29 - iter 52/133 - loss 0.00989758 - samples/sec: 784.84 - lr: 0.010000\n",
            "2023-02-06 08:36:55,532 epoch 29 - iter 65/133 - loss 0.00991688 - samples/sec: 756.52 - lr: 0.010000\n",
            "2023-02-06 08:36:57,026 epoch 29 - iter 78/133 - loss 0.00991818 - samples/sec: 758.17 - lr: 0.010000\n",
            "2023-02-06 08:36:58,307 epoch 29 - iter 91/133 - loss 0.00989315 - samples/sec: 756.41 - lr: 0.010000\n",
            "2023-02-06 08:36:59,562 epoch 29 - iter 104/133 - loss 0.00987888 - samples/sec: 767.41 - lr: 0.010000\n",
            "2023-02-06 08:37:01,023 epoch 29 - iter 117/133 - loss 0.00989864 - samples/sec: 642.50 - lr: 0.010000\n",
            "2023-02-06 08:37:02,264 epoch 29 - iter 130/133 - loss 0.00992279 - samples/sec: 772.60 - lr: 0.010000\n",
            "2023-02-06 08:37:02,549 ----------------------------------------------------------------------------------------------------\n",
            "2023-02-06 08:37:02,550 EPOCH 29 done: loss 0.0099 - lr 0.010000\n"
          ]
        },
        {
          "output_type": "stream",
          "name": "stderr",
          "text": [
            "100%|██████████| 24/24 [00:02<00:00,  9.61it/s]"
          ]
        },
        {
          "output_type": "stream",
          "name": "stdout",
          "text": [
            "2023-02-06 08:37:05,071 Evaluating as a multi-label problem: False\n",
            "2023-02-06 08:37:05,088 DEV : loss 0.010063448920845985 - f1-score (micro avg)  0.6533\n"
          ]
        },
        {
          "output_type": "stream",
          "name": "stderr",
          "text": [
            "\n"
          ]
        },
        {
          "output_type": "stream",
          "name": "stdout",
          "text": [
            "2023-02-06 08:37:05,677 BAD EPOCHS (no improvement): 1\n",
            "2023-02-06 08:37:05,684 ----------------------------------------------------------------------------------------------------\n",
            "2023-02-06 08:37:06,997 epoch 30 - iter 13/133 - loss 0.01003949 - samples/sec: 732.41 - lr: 0.010000\n",
            "2023-02-06 08:37:08,331 epoch 30 - iter 26/133 - loss 0.01015033 - samples/sec: 719.55 - lr: 0.010000\n",
            "2023-02-06 08:37:09,806 epoch 30 - iter 39/133 - loss 0.01011311 - samples/sec: 636.91 - lr: 0.010000\n",
            "2023-02-06 08:37:11,050 epoch 30 - iter 52/133 - loss 0.00997797 - samples/sec: 769.41 - lr: 0.010000\n",
            "2023-02-06 08:37:12,552 epoch 30 - iter 65/133 - loss 0.00995678 - samples/sec: 763.55 - lr: 0.010000\n",
            "2023-02-06 08:37:13,798 epoch 30 - iter 78/133 - loss 0.00991438 - samples/sec: 771.97 - lr: 0.010000\n",
            "2023-02-06 08:37:15,297 epoch 30 - iter 91/133 - loss 0.00988681 - samples/sec: 753.64 - lr: 0.010000\n",
            "2023-02-06 08:37:16,543 epoch 30 - iter 104/133 - loss 0.00986966 - samples/sec: 770.92 - lr: 0.010000\n",
            "2023-02-06 08:37:17,762 epoch 30 - iter 117/133 - loss 0.00987746 - samples/sec: 785.58 - lr: 0.010000\n",
            "2023-02-06 08:37:19,280 epoch 30 - iter 130/133 - loss 0.00989263 - samples/sec: 738.22 - lr: 0.010000\n",
            "2023-02-06 08:37:19,569 ----------------------------------------------------------------------------------------------------\n",
            "2023-02-06 08:37:19,571 EPOCH 30 done: loss 0.0099 - lr 0.010000\n"
          ]
        },
        {
          "output_type": "stream",
          "name": "stderr",
          "text": [
            "100%|██████████| 24/24 [00:02<00:00,  9.42it/s]"
          ]
        },
        {
          "output_type": "stream",
          "name": "stdout",
          "text": [
            "2023-02-06 08:37:22,147 Evaluating as a multi-label problem: False\n",
            "2023-02-06 08:37:22,165 DEV : loss 0.010032457299530506 - f1-score (micro avg)  0.6627\n"
          ]
        },
        {
          "output_type": "stream",
          "name": "stderr",
          "text": [
            "\n"
          ]
        },
        {
          "output_type": "stream",
          "name": "stdout",
          "text": [
            "2023-02-06 08:37:22,507 BAD EPOCHS (no improvement): 0\n",
            "2023-02-06 08:37:22,515 saving best model\n",
            "2023-02-06 08:37:22,593 ----------------------------------------------------------------------------------------------------\n",
            "2023-02-06 08:37:24,034 epoch 31 - iter 13/133 - loss 0.00986991 - samples/sec: 795.89 - lr: 0.010000\n",
            "2023-02-06 08:37:25,350 epoch 31 - iter 26/133 - loss 0.00980032 - samples/sec: 722.12 - lr: 0.010000\n",
            "2023-02-06 08:37:26,804 epoch 31 - iter 39/133 - loss 0.00981070 - samples/sec: 788.11 - lr: 0.010000\n",
            "2023-02-06 08:37:28,032 epoch 31 - iter 52/133 - loss 0.00978956 - samples/sec: 782.72 - lr: 0.010000\n",
            "2023-02-06 08:37:29,262 epoch 31 - iter 65/133 - loss 0.00985205 - samples/sec: 776.53 - lr: 0.010000\n",
            "2023-02-06 08:37:30,801 epoch 31 - iter 78/133 - loss 0.00986377 - samples/sec: 734.35 - lr: 0.010000\n",
            "2023-02-06 08:37:32,105 epoch 31 - iter 91/133 - loss 0.00986039 - samples/sec: 737.43 - lr: 0.010000\n",
            "2023-02-06 08:37:33,586 epoch 31 - iter 104/133 - loss 0.00986586 - samples/sec: 766.82 - lr: 0.010000\n",
            "2023-02-06 08:37:34,867 epoch 31 - iter 117/133 - loss 0.00988794 - samples/sec: 748.41 - lr: 0.010000\n",
            "2023-02-06 08:37:36,405 epoch 31 - iter 130/133 - loss 0.00986537 - samples/sec: 732.70 - lr: 0.010000\n",
            "2023-02-06 08:37:36,707 ----------------------------------------------------------------------------------------------------\n",
            "2023-02-06 08:37:36,713 EPOCH 31 done: loss 0.0099 - lr 0.010000\n"
          ]
        },
        {
          "output_type": "stream",
          "name": "stderr",
          "text": [
            "100%|██████████| 24/24 [00:02<00:00,  9.93it/s]"
          ]
        },
        {
          "output_type": "stream",
          "name": "stdout",
          "text": [
            "2023-02-06 08:37:39,148 Evaluating as a multi-label problem: False\n",
            "2023-02-06 08:37:39,165 DEV : loss 0.010030188597738743 - f1-score (micro avg)  0.6507\n"
          ]
        },
        {
          "output_type": "stream",
          "name": "stderr",
          "text": [
            "\n"
          ]
        },
        {
          "output_type": "stream",
          "name": "stdout",
          "text": [
            "2023-02-06 08:37:39,503 BAD EPOCHS (no improvement): 1\n",
            "2023-02-06 08:37:39,509 ----------------------------------------------------------------------------------------------------\n",
            "2023-02-06 08:37:40,819 epoch 32 - iter 13/133 - loss 0.00972815 - samples/sec: 729.87 - lr: 0.010000\n",
            "2023-02-06 08:37:42,293 epoch 32 - iter 26/133 - loss 0.00993442 - samples/sec: 767.42 - lr: 0.010000\n",
            "2023-02-06 08:37:43,527 epoch 32 - iter 39/133 - loss 0.00989563 - samples/sec: 777.81 - lr: 0.010000\n",
            "2023-02-06 08:37:45,030 epoch 32 - iter 52/133 - loss 0.00987169 - samples/sec: 762.50 - lr: 0.010000\n",
            "2023-02-06 08:37:46,312 epoch 32 - iter 65/133 - loss 0.00982198 - samples/sec: 744.56 - lr: 0.010000\n",
            "2023-02-06 08:37:47,772 epoch 32 - iter 78/133 - loss 0.00984166 - samples/sec: 787.72 - lr: 0.010000\n",
            "2023-02-06 08:37:49,052 epoch 32 - iter 91/133 - loss 0.00985835 - samples/sec: 753.47 - lr: 0.010000\n",
            "2023-02-06 08:37:50,603 epoch 32 - iter 104/133 - loss 0.00985180 - samples/sec: 729.35 - lr: 0.010000\n",
            "2023-02-06 08:37:51,833 epoch 32 - iter 117/133 - loss 0.00984472 - samples/sec: 780.52 - lr: 0.010000\n",
            "2023-02-06 08:37:53,083 epoch 32 - iter 130/133 - loss 0.00982573 - samples/sec: 764.01 - lr: 0.010000\n",
            "2023-02-06 08:37:53,402 ----------------------------------------------------------------------------------------------------\n",
            "2023-02-06 08:37:53,407 EPOCH 32 done: loss 0.0098 - lr 0.010000\n"
          ]
        },
        {
          "output_type": "stream",
          "name": "stderr",
          "text": [
            "100%|██████████| 24/24 [00:02<00:00,  9.86it/s]"
          ]
        },
        {
          "output_type": "stream",
          "name": "stdout",
          "text": [
            "2023-02-06 08:37:55,865 Evaluating as a multi-label problem: False\n",
            "2023-02-06 08:37:55,882 DEV : loss 0.009983059018850327 - f1-score (micro avg)  0.662\n"
          ]
        },
        {
          "output_type": "stream",
          "name": "stderr",
          "text": [
            "\n"
          ]
        },
        {
          "output_type": "stream",
          "name": "stdout",
          "text": [
            "2023-02-06 08:37:56,448 BAD EPOCHS (no improvement): 2\n",
            "2023-02-06 08:37:56,456 ----------------------------------------------------------------------------------------------------\n",
            "2023-02-06 08:37:57,753 epoch 33 - iter 13/133 - loss 0.00986220 - samples/sec: 736.25 - lr: 0.010000\n",
            "2023-02-06 08:37:59,189 epoch 33 - iter 26/133 - loss 0.00975062 - samples/sec: 802.53 - lr: 0.010000\n",
            "2023-02-06 08:38:00,474 epoch 33 - iter 39/133 - loss 0.00986705 - samples/sec: 745.66 - lr: 0.010000\n",
            "2023-02-06 08:38:01,738 epoch 33 - iter 52/133 - loss 0.00984679 - samples/sec: 754.60 - lr: 0.010000\n",
            "2023-02-06 08:38:03,179 epoch 33 - iter 65/133 - loss 0.00978551 - samples/sec: 794.68 - lr: 0.010000\n",
            "2023-02-06 08:38:04,429 epoch 33 - iter 78/133 - loss 0.00975048 - samples/sec: 765.26 - lr: 0.010000\n",
            "2023-02-06 08:38:05,913 epoch 33 - iter 91/133 - loss 0.00976211 - samples/sec: 634.13 - lr: 0.010000\n",
            "2023-02-06 08:38:07,200 epoch 33 - iter 104/133 - loss 0.00978878 - samples/sec: 740.16 - lr: 0.010000\n",
            "2023-02-06 08:38:08,709 epoch 33 - iter 117/133 - loss 0.00982863 - samples/sec: 747.73 - lr: 0.010000\n",
            "2023-02-06 08:38:10,026 epoch 33 - iter 130/133 - loss 0.00987417 - samples/sec: 722.74 - lr: 0.010000\n",
            "2023-02-06 08:38:10,302 ----------------------------------------------------------------------------------------------------\n",
            "2023-02-06 08:38:10,303 EPOCH 33 done: loss 0.0099 - lr 0.010000\n"
          ]
        },
        {
          "output_type": "stream",
          "name": "stderr",
          "text": [
            "100%|██████████| 24/24 [00:02<00:00,  9.57it/s]"
          ]
        },
        {
          "output_type": "stream",
          "name": "stdout",
          "text": [
            "2023-02-06 08:38:12,844 Evaluating as a multi-label problem: False\n",
            "2023-02-06 08:38:12,862 DEV : loss 0.009982590563595295 - f1-score (micro avg)  0.66\n"
          ]
        },
        {
          "output_type": "stream",
          "name": "stderr",
          "text": [
            "\n"
          ]
        },
        {
          "output_type": "stream",
          "name": "stdout",
          "text": [
            "2023-02-06 08:38:13,436 BAD EPOCHS (no improvement): 3\n",
            "2023-02-06 08:38:13,443 ----------------------------------------------------------------------------------------------------\n",
            "2023-02-06 08:38:14,816 epoch 34 - iter 13/133 - loss 0.00992892 - samples/sec: 690.92 - lr: 0.010000\n",
            "2023-02-06 08:38:16,115 epoch 34 - iter 26/133 - loss 0.00987621 - samples/sec: 736.73 - lr: 0.010000\n",
            "2023-02-06 08:38:17,696 epoch 34 - iter 39/133 - loss 0.00987597 - samples/sec: 734.20 - lr: 0.010000\n",
            "2023-02-06 08:38:18,994 epoch 34 - iter 52/133 - loss 0.00991974 - samples/sec: 737.16 - lr: 0.010000\n",
            "2023-02-06 08:38:20,513 epoch 34 - iter 65/133 - loss 0.00990955 - samples/sec: 619.03 - lr: 0.010000\n",
            "2023-02-06 08:38:21,810 epoch 34 - iter 78/133 - loss 0.00985254 - samples/sec: 739.38 - lr: 0.010000\n",
            "2023-02-06 08:38:23,273 epoch 34 - iter 91/133 - loss 0.00982011 - samples/sec: 779.25 - lr: 0.010000\n",
            "2023-02-06 08:38:24,511 epoch 34 - iter 104/133 - loss 0.00980783 - samples/sec: 773.71 - lr: 0.010000\n",
            "2023-02-06 08:38:25,739 epoch 34 - iter 117/133 - loss 0.00976338 - samples/sec: 780.95 - lr: 0.010000\n",
            "2023-02-06 08:38:27,199 epoch 34 - iter 130/133 - loss 0.00978109 - samples/sec: 777.03 - lr: 0.010000\n",
            "2023-02-06 08:38:27,468 ----------------------------------------------------------------------------------------------------\n",
            "2023-02-06 08:38:27,472 EPOCH 34 done: loss 0.0098 - lr 0.010000\n"
          ]
        },
        {
          "output_type": "stream",
          "name": "stderr",
          "text": [
            "100%|██████████| 24/24 [00:02<00:00,  9.89it/s]"
          ]
        },
        {
          "output_type": "stream",
          "name": "stdout",
          "text": [
            "2023-02-06 08:38:29,920 Evaluating as a multi-label problem: False\n",
            "2023-02-06 08:38:29,937 DEV : loss 0.009954135864973068 - f1-score (micro avg)  0.6647\n"
          ]
        },
        {
          "output_type": "stream",
          "name": "stderr",
          "text": [
            "\n"
          ]
        },
        {
          "output_type": "stream",
          "name": "stdout",
          "text": [
            "2023-02-06 08:38:30,291 BAD EPOCHS (no improvement): 0\n",
            "2023-02-06 08:38:30,298 saving best model\n",
            "2023-02-06 08:38:30,373 ----------------------------------------------------------------------------------------------------\n",
            "2023-02-06 08:38:31,950 epoch 35 - iter 13/133 - loss 0.00960910 - samples/sec: 708.10 - lr: 0.010000\n",
            "2023-02-06 08:38:33,281 epoch 35 - iter 26/133 - loss 0.00965913 - samples/sec: 722.62 - lr: 0.010000\n",
            "2023-02-06 08:38:34,761 epoch 35 - iter 39/133 - loss 0.00961002 - samples/sec: 636.49 - lr: 0.010000\n",
            "2023-02-06 08:38:36,130 epoch 35 - iter 52/133 - loss 0.00968180 - samples/sec: 698.70 - lr: 0.010000\n",
            "2023-02-06 08:38:37,349 epoch 35 - iter 65/133 - loss 0.00970834 - samples/sec: 786.80 - lr: 0.010000\n",
            "2023-02-06 08:38:38,815 epoch 35 - iter 78/133 - loss 0.00976811 - samples/sec: 770.86 - lr: 0.010000\n",
            "2023-02-06 08:38:40,015 epoch 35 - iter 91/133 - loss 0.00977029 - samples/sec: 805.65 - lr: 0.010000\n",
            "2023-02-06 08:38:41,480 epoch 35 - iter 104/133 - loss 0.00976745 - samples/sec: 773.86 - lr: 0.010000\n",
            "2023-02-06 08:38:42,701 epoch 35 - iter 117/133 - loss 0.00977891 - samples/sec: 787.95 - lr: 0.010000\n",
            "2023-02-06 08:38:44,189 epoch 35 - iter 130/133 - loss 0.00974154 - samples/sec: 759.68 - lr: 0.010000\n",
            "2023-02-06 08:38:44,483 ----------------------------------------------------------------------------------------------------\n",
            "2023-02-06 08:38:44,489 EPOCH 35 done: loss 0.0098 - lr 0.010000\n"
          ]
        },
        {
          "output_type": "stream",
          "name": "stderr",
          "text": [
            "100%|██████████| 24/24 [00:02<00:00,  9.99it/s]"
          ]
        },
        {
          "output_type": "stream",
          "name": "stdout",
          "text": [
            "2023-02-06 08:38:46,913 Evaluating as a multi-label problem: False\n",
            "2023-02-06 08:38:46,930 DEV : loss 0.009962853975594044 - f1-score (micro avg)  0.658\n"
          ]
        },
        {
          "output_type": "stream",
          "name": "stderr",
          "text": [
            "\n"
          ]
        },
        {
          "output_type": "stream",
          "name": "stdout",
          "text": [
            "2023-02-06 08:38:47,267 BAD EPOCHS (no improvement): 1\n",
            "2023-02-06 08:38:47,361 ----------------------------------------------------------------------------------------------------\n",
            "2023-02-06 08:38:47,365 loading file /content/drive/MyDrive/Colab Notebooks/models/flair-sentiment-classifier/best-model.pt\n"
          ]
        },
        {
          "output_type": "stream",
          "name": "stderr",
          "text": [
            "100%|██████████| 6/6 [00:00<00:00,  9.70it/s]"
          ]
        },
        {
          "output_type": "stream",
          "name": "stdout",
          "text": [
            "2023-02-06 08:38:48,126 Evaluating as a multi-label problem: False\n",
            "2023-02-06 08:38:48,139 0.6462\t0.6462\t0.6462\t0.6462\n",
            "2023-02-06 08:38:48,144 \n",
            "Results:\n",
            "- F-score (micro) 0.6462\n",
            "- F-score (macro) 0.6426\n",
            "- Accuracy 0.6462\n",
            "\n",
            "By class:\n",
            "              precision    recall  f1-score   support\n",
            "\n",
            "           1     0.6291    0.7363    0.6785       182\n",
            "           0     0.6712    0.5537    0.6068       177\n",
            "\n",
            "    accuracy                         0.6462       359\n",
            "   macro avg     0.6502    0.6450    0.6426       359\n",
            "weighted avg     0.6499    0.6462    0.6431       359\n",
            "\n",
            "2023-02-06 08:38:48,150 ----------------------------------------------------------------------------------------------------\n"
          ]
        },
        {
          "output_type": "stream",
          "name": "stderr",
          "text": [
            "\n"
          ]
        },
        {
          "output_type": "execute_result",
          "data": {
            "text/plain": [
              "{'test_score': 0.6462395543175488,\n",
              " 'dev_score_history': [0.5393333333333333,\n",
              "  0.586,\n",
              "  0.5833333333333334,\n",
              "  0.5866666666666667,\n",
              "  0.59,\n",
              "  0.5953333333333334,\n",
              "  0.604,\n",
              "  0.602,\n",
              "  0.6126666666666667,\n",
              "  0.612,\n",
              "  0.618,\n",
              "  0.6233333333333333,\n",
              "  0.6206666666666667,\n",
              "  0.626,\n",
              "  0.6246666666666667,\n",
              "  0.6253333333333333,\n",
              "  0.63,\n",
              "  0.6313333333333333,\n",
              "  0.64,\n",
              "  0.6413333333333333,\n",
              "  0.6373333333333333,\n",
              "  0.6413333333333333,\n",
              "  0.644,\n",
              "  0.6486666666666666,\n",
              "  0.6506666666666666,\n",
              "  0.6453333333333333,\n",
              "  0.6566666666666666,\n",
              "  0.6566666666666666,\n",
              "  0.6533333333333333,\n",
              "  0.6626666666666666,\n",
              "  0.6506666666666666,\n",
              "  0.662,\n",
              "  0.66,\n",
              "  0.6646666666666666,\n",
              "  0.658],\n",
              " 'train_loss_history': [0.01253135909052456,\n",
              "  0.011174857321907492,\n",
              "  0.010936222427031574,\n",
              "  0.010812628795118892,\n",
              "  0.010711871532832875,\n",
              "  0.010672345210524166,\n",
              "  0.010636886722901287,\n",
              "  0.010562960512497846,\n",
              "  0.010548884174403023,\n",
              "  0.010505827714415158,\n",
              "  0.010489398612695582,\n",
              "  0.010428840700317831,\n",
              "  0.010391102524364695,\n",
              "  0.010375254006946787,\n",
              "  0.010306658197851742,\n",
              "  0.010284092398250804,\n",
              "  0.010297371801208047,\n",
              "  0.010228792071342469,\n",
              "  0.010214742527288549,\n",
              "  0.010179497108739966,\n",
              "  0.010137383573195513,\n",
              "  0.010133044719696045,\n",
              "  0.010098109722137451,\n",
              "  0.010065501472529242,\n",
              "  0.010004523277282715,\n",
              "  0.00997911853650037,\n",
              "  0.009967831822002636,\n",
              "  0.009977477255989523,\n",
              "  0.009934876932817346,\n",
              "  0.009909990450915169,\n",
              "  0.00987828400555779,\n",
              "  0.009848919868469239,\n",
              "  0.009884989871698268,\n",
              "  0.009801310083445381,\n",
              "  0.009773709009675419],\n",
              " 'dev_loss_history': [0.01149754598736763,\n",
              "  0.011094754561781883,\n",
              "  0.010945815593004227,\n",
              "  0.010844088159501553,\n",
              "  0.010764073580503464,\n",
              "  0.010709869675338268,\n",
              "  0.010663843713700771,\n",
              "  0.010619796812534332,\n",
              "  0.010611701756715775,\n",
              "  0.010555021464824677,\n",
              "  0.010583124123513699,\n",
              "  0.010490193963050842,\n",
              "  0.010483094491064548,\n",
              "  0.010432829149067402,\n",
              "  0.010397534817457199,\n",
              "  0.010406638495624065,\n",
              "  0.01034807600080967,\n",
              "  0.010320308618247509,\n",
              "  0.010296817868947983,\n",
              "  0.010265583172440529,\n",
              "  0.010291438549757004,\n",
              "  0.010224188677966595,\n",
              "  0.010190014727413654,\n",
              "  0.010158772580325603,\n",
              "  0.010137598030269146,\n",
              "  0.010154918767511845,\n",
              "  0.010085121728479862,\n",
              "  0.010063917376101017,\n",
              "  0.010063448920845985,\n",
              "  0.010032457299530506,\n",
              "  0.010030188597738743,\n",
              "  0.009983059018850327,\n",
              "  0.009982590563595295,\n",
              "  0.009954135864973068,\n",
              "  0.009962853975594044]}"
            ]
          },
          "metadata": {},
          "execution_count": 12
        }
      ],
      "source": [
        "from flair.embeddings import (\n",
        "    # TransformerDocumentEmbeddings,\n",
        "    DocumentLSTMEmbeddings,\n",
        "    FlairEmbeddings,\n",
        "    CharacterEmbeddings,\n",
        "    StackedEmbeddings,\n",
        "    DocumentPoolEmbeddings,\n",
        "    WordEmbeddings\n",
        ")\n",
        "\n",
        "from flair.models import TextClassifier\n",
        "from flair.trainers import ModelTrainer\n",
        "\n",
        "word_embeddings = [FlairEmbeddings('news-forward-fast')]\n",
        "\n",
        "document_embeddings = DocumentLSTMEmbeddings(word_embeddings, hidden_size = 512, reproject_words = True,\n",
        "                                             reproject_words_dimension=256)\n",
        "# word_embeddings = [CharacterEmbeddings(), FlairEmbeddings('news-forward-fast'), FlairEmbeddings('news-backward-fast')]\n",
        "\n",
        "# document_embeddings = DocumentPoolEmbeddings(word_embeddings)\n",
        "\n",
        "classifier = TextClassifier(document_embeddings, label_dictionary = label_dict, label_type = label_type)\n",
        "\n",
        "trainer = ModelTrainer(classifier, corpus)\n",
        "\n",
        "trainer.train('/content/drive/MyDrive/Colab Notebooks/models/flair-sentiment-classifier',\n",
        "              learning_rate = 0.01, mini_batch_size = 64, max_epochs = 35,\n",
        "              embeddings_storage_mode = 'gpu',\n",
        "            )"
      ]
    },
    {
      "cell_type": "code",
      "execution_count": null,
      "metadata": {
        "id": "Dyi8dyznxcO5"
      },
      "outputs": [],
      "source": []
    }
  ],
  "metadata": {
    "accelerator": "GPU",
    "colab": {
      "provenance": [],
      "mount_file_id": "1rzG24Dj_lAX8v_qxcKR_wxlQRLr2gIw9",
      "authorship_tag": "ABX9TyOeWc8wqtz+EuwVCtWqBfpe",
      "include_colab_link": true
    },
    "gpuClass": "standard",
    "kernelspec": {
      "display_name": "Python 3",
      "name": "python3"
    },
    "language_info": {
      "name": "python"
    }
  },
  "nbformat": 4,
  "nbformat_minor": 0
}