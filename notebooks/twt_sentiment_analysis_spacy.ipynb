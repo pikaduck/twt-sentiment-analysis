{
  "nbformat": 4,
  "nbformat_minor": 0,
  "metadata": {
    "colab": {
      "provenance": [],
      "mount_file_id": "1CCFcSzc_drMSAEkn_ZhrUzFWPj_iJcR3",
      "authorship_tag": "ABX9TyME+pTdVOVOIqkpdDyzR09g",
      "include_colab_link": true
    },
    "kernelspec": {
      "name": "python3",
      "display_name": "Python 3"
    },
    "language_info": {
      "name": "python"
    }
  },
  "cells": [
    {
      "cell_type": "markdown",
      "metadata": {
        "id": "view-in-github",
        "colab_type": "text"
      },
      "source": [
        "<a href=\"https://colab.research.google.com/github/pikaduck/twt-sentiment-analysis/blob/main/notebooks/twt_sentiment_analysis_spacy.ipynb\" target=\"_parent\"><img src=\"https://colab.research.google.com/assets/colab-badge.svg\" alt=\"Open In Colab\"/></a>"
      ]
    },
    {
      "cell_type": "code",
      "execution_count": 1,
      "metadata": {
        "colab": {
          "base_uri": "https://localhost:8080/"
        },
        "id": "-CVwtB4tJZkt",
        "outputId": "5a2474f6-ce28-44ec-afa5-4791da8ba3da"
      },
      "outputs": [
        {
          "output_type": "stream",
          "name": "stderr",
          "text": [
            "/usr/local/lib/python3.8/dist-packages/torch/cuda/__init__.py:497: UserWarning: Can't initialize NVML\n",
            "  warnings.warn(\"Can't initialize NVML\")\n"
          ]
        }
      ],
      "source": [
        "from tqdm import tqdm\n",
        "import pandas as pd\n",
        "from sklearn.model_selection import train_test_split\n",
        "import spacy\n",
        "import spacy_transformers"
      ]
    },
    {
      "cell_type": "code",
      "source": [
        "! python -m spacy download en_core_web_trf\n",
        "! pip install spacy-transformers"
      ],
      "metadata": {
        "id": "yVC5wVHea2Nb"
      },
      "execution_count": null,
      "outputs": []
    },
    {
      "cell_type": "code",
      "source": [
        "df_train = pd.read_csv('/content/drive/MyDrive/Colab Notebooks/train.csv')\n",
        "df_test = pd.read_csv('/content/drive/MyDrive/Colab Notebooks/test.csv')\n",
        "\n",
        "df_train0 = df_train.loc[df_train['sentiment'] == 0]\n",
        "df_train4 = df_train.loc[df_train['sentiment'] == 4]\n",
        "\n",
        "df_train0 = df_train0.sample(frac = 1).iloc[:5000]\n",
        "df_train4 = df_train4.sample(frac = 1).iloc[:5000]\n",
        "\n",
        "df_train = pd.concat([df_train0, df_train4])\n",
        "\n",
        "df_train['sentiment'] = df_train['sentiment'].replace(4, 1)\n",
        "df_test = df_test.loc[df_test['sentiment'] != 2]\n",
        "df_test['sentiment'] = df_test['sentiment'].replace(4, 1)\n",
        "\n",
        "train, dev = train_test_split(df_train, train_size = 0.85, random_state = 42, shuffle = True)\n",
        "train.shape, dev.shape"
      ],
      "metadata": {
        "colab": {
          "base_uri": "https://localhost:8080/"
        },
        "id": "_fZbiozjKyTi",
        "outputId": "2687dd67-ff91-4e26-c165-7ecdc46b263e"
      },
      "execution_count": 2,
      "outputs": [
        {
          "output_type": "stream",
          "name": "stderr",
          "text": [
            "<ipython-input-2-0017da24350f>:14: SettingWithCopyWarning: \n",
            "A value is trying to be set on a copy of a slice from a DataFrame.\n",
            "Try using .loc[row_indexer,col_indexer] = value instead\n",
            "\n",
            "See the caveats in the documentation: https://pandas.pydata.org/pandas-docs/stable/user_guide/indexing.html#returning-a-view-versus-a-copy\n",
            "  df_test['sentiment'] = df_test['sentiment'].replace(4, 1)\n"
          ]
        },
        {
          "output_type": "execute_result",
          "data": {
            "text/plain": [
              "((8500, 10), (1500, 10))"
            ]
          },
          "metadata": {},
          "execution_count": 2
        }
      ]
    },
    {
      "cell_type": "code",
      "source": [
        "test = df_test"
      ],
      "metadata": {
        "id": "az4Pa_LkMJn6"
      },
      "execution_count": 3,
      "outputs": []
    },
    {
      "cell_type": "code",
      "source": [
        "train['tuple'] = train.apply(lambda x : (x['cleaned_tweet'], x['sentiment']), axis = 1)\n",
        "train_tuples = train['tuple'].to_list()\n",
        "\n",
        "dev['tuple'] = dev.apply(lambda x : (x['cleaned_tweet'], x['sentiment']), axis = 1)\n",
        "dev_tuples = dev['tuple'].to_list()\n",
        "\n",
        "test['tuple'] = test.apply(lambda x : (x['cleaned_tweet'], x['sentiment']), axis = 1)\n",
        "test_tuples = test['tuple'].to_list()"
      ],
      "metadata": {
        "id": "5mQJjkWEK70C"
      },
      "execution_count": 48,
      "outputs": []
    },
    {
      "cell_type": "code",
      "source": [
        "nlp = spacy.load('en_core_web_trf')\n",
        "nlp.pipe_names"
      ],
      "metadata": {
        "colab": {
          "base_uri": "https://localhost:8080/"
        },
        "id": "RR3fWyc6qEfg",
        "outputId": "c0220b66-5ca9-458f-84c5-02151f5716ec"
      },
      "execution_count": 54,
      "outputs": [
        {
          "output_type": "execute_result",
          "data": {
            "text/plain": [
              "['transformer', 'tagger', 'parser', 'attribute_ruler', 'lemmatizer', 'ner']"
            ]
          },
          "metadata": {},
          "execution_count": 54
        }
      ]
    },
    {
      "cell_type": "code",
      "source": [
        "def convert2doc(data):\n",
        "  # texts, labels = zip(*data)\n",
        "  texts = []\n",
        "  for doc, label in tqdm(nlp.pipe(data, as_tuples = True, batch_size = 1000), total = len(data)):\n",
        "    # print(doc)\n",
        "    if label == 0:\n",
        "      doc.cats['positive'] = 0\n",
        "      doc.cats['negative'] = 1\n",
        "    else:\n",
        "      doc.cats['positive'] = 1\n",
        "      doc.cats['negative'] = 0\n",
        "    texts.append(doc)\n",
        "  return texts"
      ],
      "metadata": {
        "id": "EMaeHzj_Mjpa"
      },
      "execution_count": 73,
      "outputs": []
    },
    {
      "cell_type": "code",
      "source": [
        "train_docs = convert2doc(train_tuples)\n",
        "dev_docs = convert2doc(dev_tuples)\n",
        "test_docs = convert2doc(test_tuples)"
      ],
      "metadata": {
        "colab": {
          "base_uri": "https://localhost:8080/"
        },
        "id": "tFFXMBxRPUJ7",
        "outputId": "6fe487eb-93c0-47ad-d45a-7f2437a768e7"
      },
      "execution_count": 74,
      "outputs": [
        {
          "output_type": "stream",
          "name": "stderr",
          "text": [
            "100%|██████████| 8500/8500 [15:56<00:00,  8.89it/s]\n",
            "100%|██████████| 1500/1500 [02:45<00:00,  9.05it/s]\n",
            "100%|██████████| 359/359 [00:46<00:00,  7.64it/s]\n"
          ]
        }
      ]
    },
    {
      "cell_type": "code",
      "source": [
        "dev_docs[0].cats"
      ],
      "metadata": {
        "colab": {
          "base_uri": "https://localhost:8080/"
        },
        "id": "Vl6lxbBmC-Bh",
        "outputId": "c9689dd6-157c-4520-9469-dd7fbe8491f6"
      },
      "execution_count": 81,
      "outputs": [
        {
          "output_type": "execute_result",
          "data": {
            "text/plain": [
              "{'positive': 1, 'negative': 0}"
            ]
          },
          "metadata": {},
          "execution_count": 81
        }
      ]
    },
    {
      "cell_type": "code",
      "source": [
        "from spacy.tokens import DocBin\n",
        "\n",
        "train_doc_bin = DocBin(docs = train_docs)\n",
        "dev_doc_bin = DocBin(docs = dev_docs)\n",
        "test_doc_bin = DocBin(docs = test_docs)\n",
        "\n",
        "train_doc_bin.to_disk('/content/drive/MyDrive/Colab Notebooks/train.spacy')\n",
        "dev_doc_bin.to_disk('/content/drive/MyDrive/Colab Notebooks/dev.spacy')\n",
        "test_doc_bin.to_disk('/content/drive/MyDrive/Colab Notebooks/test.spacy')"
      ],
      "metadata": {
        "id": "mNenrqoUQrgA"
      },
      "execution_count": 82,
      "outputs": []
    },
    {
      "cell_type": "code",
      "source": [
        "! python -m spacy init fill-config /content/base_config.cfg /content/config.cfg"
      ],
      "metadata": {
        "colab": {
          "base_uri": "https://localhost:8080/"
        },
        "id": "jsoG9Gk3diiO",
        "outputId": "4ac953db-c3fd-4077-a5dd-e01c65b8980b"
      },
      "execution_count": 23,
      "outputs": [
        {
          "output_type": "stream",
          "name": "stdout",
          "text": [
            "/usr/local/lib/python3.8/dist-packages/torch/cuda/__init__.py:497: UserWarning: Can't initialize NVML\n",
            "  warnings.warn(\"Can't initialize NVML\")\n",
            "2023-02-06 12:45:42.319443: E tensorflow/stream_executor/cuda/cuda_driver.cc:271] failed call to cuInit: CUDA_ERROR_NO_DEVICE: no CUDA-capable device is detected\n",
            "\u001b[38;5;2m✔ Auto-filled config with all values\u001b[0m\n",
            "\u001b[38;5;2m✔ Saved config\u001b[0m\n",
            "/content/config.cfg\n",
            "You can now add your data and train your pipeline:\n",
            "python -m spacy train config.cfg --paths.train ./train.spacy --paths.dev ./dev.spacy\n"
          ]
        }
      ]
    },
    {
      "cell_type": "code",
      "source": [
        "! python -m spacy train config.cfg --verbose --output /content/output"
      ],
      "metadata": {
        "colab": {
          "base_uri": "https://localhost:8080/"
        },
        "id": "KvN3Z-kufp2u",
        "outputId": "93b9d230-c984-43b3-ff72-dab4bf2a89b8"
      },
      "execution_count": 83,
      "outputs": [
        {
          "output_type": "stream",
          "name": "stdout",
          "text": [
            "/usr/local/lib/python3.8/dist-packages/torch/cuda/__init__.py:497: UserWarning: Can't initialize NVML\n",
            "  warnings.warn(\"Can't initialize NVML\")\n",
            "2023-02-06 15:37:23.359094: E tensorflow/stream_executor/cuda/cuda_driver.cc:271] failed call to cuInit: CUDA_ERROR_NO_DEVICE: no CUDA-capable device is detected\n",
            "\u001b[38;5;4mℹ Saving to output directory: /content/output\u001b[0m\n",
            "\u001b[38;5;4mℹ Using CPU\u001b[0m\n",
            "\u001b[1m\n",
            "=========================== Initializing pipeline ===========================\u001b[0m\n",
            "[2023-02-06 15:37:25,021] [INFO] Set up nlp object from config\n",
            "INFO:spacy:Set up nlp object from config\n",
            "[2023-02-06 15:37:25,033] [DEBUG] Loading corpus from path: /content/drive/MyDrive/Colab Notebooks/dev.spacy\n",
            "DEBUG:spacy:Loading corpus from path: /content/drive/MyDrive/Colab Notebooks/dev.spacy\n",
            "[2023-02-06 15:37:25,035] [DEBUG] Loading corpus from path: /content/drive/MyDrive/Colab Notebooks/train.spacy\n",
            "DEBUG:spacy:Loading corpus from path: /content/drive/MyDrive/Colab Notebooks/train.spacy\n",
            "[2023-02-06 15:37:25,035] [INFO] Pipeline: ['textcat']\n",
            "INFO:spacy:Pipeline: ['textcat']\n",
            "[2023-02-06 15:37:25,039] [INFO] Created vocabulary\n",
            "INFO:spacy:Created vocabulary\n",
            "[2023-02-06 15:37:25,040] [INFO] Finished initializing nlp object\n",
            "INFO:spacy:Finished initializing nlp object\n",
            "[2023-02-06 15:37:29,048] [INFO] Initialized pipeline components: ['textcat']\n",
            "INFO:spacy:Initialized pipeline components: ['textcat']\n",
            "\u001b[38;5;2m✔ Initialized pipeline\u001b[0m\n",
            "\u001b[1m\n",
            "============================= Training pipeline =============================\u001b[0m\n",
            "[2023-02-06 15:37:29,062] [DEBUG] Loading corpus from path: /content/drive/MyDrive/Colab Notebooks/dev.spacy\n",
            "DEBUG:spacy:Loading corpus from path: /content/drive/MyDrive/Colab Notebooks/dev.spacy\n",
            "[2023-02-06 15:37:29,063] [DEBUG] Loading corpus from path: /content/drive/MyDrive/Colab Notebooks/train.spacy\n",
            "DEBUG:spacy:Loading corpus from path: /content/drive/MyDrive/Colab Notebooks/train.spacy\n",
            "[2023-02-06 15:37:29,064] [DEBUG] Removed existing output directory: /content/output/model-best\n",
            "DEBUG:spacy:Removed existing output directory: /content/output/model-best\n",
            "[2023-02-06 15:37:29,065] [DEBUG] Removed existing output directory: /content/output/model-last\n",
            "DEBUG:spacy:Removed existing output directory: /content/output/model-last\n",
            "\u001b[38;5;4mℹ Pipeline: ['textcat']\u001b[0m\n",
            "\u001b[38;5;4mℹ Initial learn rate: 5e-05\u001b[0m\n",
            "E    #       LOSS TEXTCAT  CATS_SCORE  SCORE \n",
            "---  ------  ------------  ----------  ------\n",
            "  0       0          0.25       56.94    0.57\n",
            "  0     200         49.72       55.95    0.56\n",
            "  0     400         49.28       61.30    0.61\n",
            "  0     600         48.72       68.19    0.68\n",
            "  0     800         48.26       70.20    0.70\n",
            "  1    1000         47.28       70.50    0.71\n",
            "  1    1200         46.38       70.66    0.71\n",
            "  2    1400         45.76       71.19    0.71\n",
            "  2    1600         44.93       71.06    0.71\n",
            "  3    1800         43.97       71.45    0.71\n",
            "  4    2000         43.05       71.31    0.71\n",
            "  5    2200         42.19       71.66    0.72\n",
            "  7    2400         41.41       72.08    0.72\n",
            "  8    2600         40.35       72.43    0.72\n",
            " 10    2800         39.57       72.97    0.73\n",
            " 11    3000         38.90       72.69    0.73\n",
            " 13    3200         38.21       72.63    0.73\n",
            " 14    3400         37.44       72.70    0.73\n",
            " 16    3600         36.83       73.10    0.73\n",
            " 17    3800         36.32       73.30    0.73\n",
            " 19    4000         35.67       73.58    0.74\n",
            " 20    4200         35.33       73.51    0.74\n",
            " 22    4400         34.54       73.57    0.74\n",
            " 23    4600         34.33       74.05    0.74\n",
            " 25    4800         33.61       73.91    0.74\n",
            " 26    5000         33.43       74.32    0.74\n",
            " 28    5200         32.74       74.18    0.74\n",
            " 29    5400         32.49       74.32    0.74\n",
            " 31    5600         31.93       74.05    0.74\n",
            " 32    5800         31.75       74.25    0.74\n",
            " 34    6000         31.26       74.25    0.74\n",
            " 35    6200         30.87       74.19    0.74\n",
            " 37    6400         30.62       74.19    0.74\n",
            " 38    6600         30.15       74.32    0.74\n",
            " 40    6800         29.90       74.32    0.74\n",
            " 41    7000         29.42       74.45    0.74\n",
            " 43    7200         29.16       74.25    0.74\n",
            " 44    7400         28.98       74.39    0.74\n",
            " 46    7600         28.49       74.32    0.74\n",
            " 47    7800         28.43       74.13    0.74\n",
            " 49    8000         27.98       74.26    0.74\n",
            " 51    8200         27.80       74.12    0.74\n",
            " 52    8400         27.46       74.26    0.74\n",
            " 54    8600         27.25       74.26    0.74\n",
            " 55    8800         27.02       74.53    0.75\n",
            " 57    9000         26.61       74.39    0.74\n",
            " 58    9200         26.44       74.46    0.74\n",
            " 60    9400         26.36       74.39    0.74\n",
            " 61    9600         25.82       74.59    0.75\n",
            " 63    9800         25.78       74.53    0.75\n",
            " 64   10000         25.51       74.60    0.75\n",
            " 66   10200         25.41       74.53    0.75\n",
            " 67   10400         25.16       74.79    0.75\n",
            " 69   10600         24.69       74.86    0.75\n",
            " 70   10800         24.63       74.79    0.75\n",
            " 72   11000         24.49       74.79    0.75\n",
            " 73   11200         24.15       74.79    0.75\n",
            " 75   11400         24.10       74.86    0.75\n",
            " 76   11600         23.80       74.86    0.75\n",
            " 78   11800         23.77       74.99    0.75\n",
            " 79   12000         23.44       74.99    0.75\n",
            " 81   12200         23.26       74.86    0.75\n",
            " 82   12400         23.14       74.86    0.75\n",
            " 84   12600         22.91       74.80    0.75\n",
            " 85   12800         22.83       74.60    0.75\n",
            " 87   13000         22.61       74.66    0.75\n",
            " 88   13200         22.27       74.73    0.75\n",
            " 90   13400         22.34       74.66    0.75\n",
            " 91   13600         22.03       74.53    0.75\n",
            " 93   13800         21.94       74.66    0.75\n",
            " 94   14000         21.90       74.59    0.75\n",
            " 96   14200         21.51       74.66    0.75\n",
            " 97   14400         21.37       74.60    0.75\n",
            " 99   14600         21.34       74.53    0.75\n",
            "100   14800         21.15       74.46    0.74\n",
            "102   15000         21.05       74.53    0.75\n",
            "\u001b[38;5;2m✔ Saved pipeline to output directory\u001b[0m\n",
            "/content/output/model-last\n"
          ]
        }
      ]
    },
    {
      "cell_type": "code",
      "source": [
        "text = \"it was such a great film oh my god\"\n",
        "\n",
        "nlp = spacy.load('/content/output/model-best')\n",
        "demo = nlp(text)\n",
        "\n",
        "demo.cats"
      ],
      "metadata": {
        "colab": {
          "base_uri": "https://localhost:8080/"
        },
        "id": "oq8kYtbugHim",
        "outputId": "21e909e9-2689-492e-cbd1-d9300643da2f"
      },
      "execution_count": 85,
      "outputs": [
        {
          "output_type": "execute_result",
          "data": {
            "text/plain": [
              "{'positive': 0.643597424030304, 'negative': 0.35640251636505127}"
            ]
          },
          "metadata": {},
          "execution_count": 85
        }
      ]
    },
    {
      "cell_type": "code",
      "source": [
        "! mv /content/output /content/drive/MyDrive/Colab\\ Notebooks/"
      ],
      "metadata": {
        "id": "qFbdQR0d3mPD"
      },
      "execution_count": 86,
      "outputs": []
    },
    {
      "cell_type": "code",
      "source": [],
      "metadata": {
        "id": "Of9eqXhobcyQ"
      },
      "execution_count": null,
      "outputs": []
    }
  ]
}